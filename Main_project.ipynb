{
 "cells": [
  {
   "cell_type": "markdown",
   "metadata": {
    "cell_id": "65359e2284a64fa082e2d5392da52183",
    "deepnote_cell_type": "markdown"
   },
   "source": [
    "# Child & Infant Mortality\n",
    "_____________________________________________________________________________________________________________________\n",
    "One in every 100 children dies before completing one year of life. Around 68 percent of infant mortality is attributed to deaths of children before completing 1 month.\n",
    "15,000 children die every day – Child mortality is an everyday tragedy of enormous scale that rarely makes the headlines\n",
    "Child mortality rates have declined in all world regions, but the world is not on track to reach the Sustainable Development Goal for child mortality\n",
    "Before the Modern Revolution child mortality was very high in all societies that we have knowledge of – a quarter of all children died in the first year of life, almost half died before reaching the end of puberty\n",
    "Over the last two centuries all countries in the world have made very rapid progress against child mortality. From 1800 to 1950 global mortality has halved from around 43% to 22.5%. Since 1950 the mortality rate has declined five-fold to 4.5% in 2015. All countries in the world have benefitted from this progress\n",
    "_____________________________________________________________________________________________________________________\n",
    "#### Participants \n",
    "\n",
    "- Colchado Avalos Jorge\n",
    "- Duran Carrasco Uriel\n",
    "- Meraz Olivas Jhoel Francisco\n",
    "- Mora Campos Carlos Eduardo\n",
    "- Santacruz Espino Rodrigo"
   ]
  },
  {
   "cell_type": "markdown",
   "metadata": {
    "cell_id": "2367fb2fb7c34c9ba7a66be4e141d560",
    "deepnote_cell_type": "markdown"
   },
   "source": [
    "## Import Libraries"
   ]
  },
  {
   "cell_type": "code",
   "execution_count": null,
   "metadata": {
    "cell_id": "f89d4ef31cfd46388c6e8b76b0439f29",
    "deepnote_app_is_output_hidden": true,
    "deepnote_cell_type": "code",
    "deepnote_to_be_reexecuted": false,
    "execution_millis": 8654,
    "execution_start": 1699318653100,
    "is_output_hidden": true,
    "source_hash": null
   },
   "outputs": [
    {
     "name": "stdout",
     "output_type": "stream",
     "text": [
      "Collecting statsmodels\n",
      "  Downloading statsmodels-0.14.0-cp39-cp39-manylinux_2_17_x86_64.manylinux2014_x86_64.whl (10.1 MB)\n",
      "\u001b[2K     \u001b[90m━━━━━━━━━━━━━━━━━━━━━━━━━━━━━━━━━━━━━━━━\u001b[0m \u001b[32m10.1/10.1 MB\u001b[0m \u001b[31m71.2 MB/s\u001b[0m eta \u001b[36m0:00:00\u001b[0m\n",
      "\u001b[?25hCollecting wquantiles\n",
      "  Downloading wquantiles-0.6-py3-none-any.whl (3.3 kB)\n",
      "Requirement already satisfied: pandas>=1.0 in /shared-libs/python3.9/py/lib/python3.9/site-packages (from statsmodels) (1.2.5)\n",
      "Requirement already satisfied: numpy>=1.18 in /shared-libs/python3.9/py/lib/python3.9/site-packages (from statsmodels) (1.23.4)\n",
      "Collecting patsy>=0.5.2\n",
      "  Downloading patsy-0.5.3-py2.py3-none-any.whl (233 kB)\n",
      "\u001b[2K     \u001b[90m━━━━━━━━━━━━━━━━━━━━━━━━━━━━━━━━━━━━━━\u001b[0m \u001b[32m233.8/233.8 kB\u001b[0m \u001b[31m52.4 MB/s\u001b[0m eta \u001b[36m0:00:00\u001b[0m\n",
      "\u001b[?25hRequirement already satisfied: scipy!=1.9.2,>=1.4 in /shared-libs/python3.9/py/lib/python3.9/site-packages (from statsmodels) (1.9.3)\n",
      "Requirement already satisfied: packaging>=21.3 in /shared-libs/python3.9/py-core/lib/python3.9/site-packages (from statsmodels) (21.3)\n",
      "Requirement already satisfied: pyparsing!=3.0.5,>=2.0.2 in /shared-libs/python3.9/py-core/lib/python3.9/site-packages (from packaging>=21.3->statsmodels) (3.0.9)\n",
      "Requirement already satisfied: python-dateutil>=2.7.3 in /shared-libs/python3.9/py-core/lib/python3.9/site-packages (from pandas>=1.0->statsmodels) (2.8.2)\n",
      "Requirement already satisfied: pytz>=2017.3 in /shared-libs/python3.9/py/lib/python3.9/site-packages (from pandas>=1.0->statsmodels) (2022.5)\n",
      "Requirement already satisfied: six in /shared-libs/python3.9/py-core/lib/python3.9/site-packages (from patsy>=0.5.2->statsmodels) (1.16.0)\n",
      "Installing collected packages: wquantiles, patsy, statsmodels\n",
      "Successfully installed patsy-0.5.3 statsmodels-0.14.0 wquantiles-0.6\n",
      "\n",
      "\u001b[1m[\u001b[0m\u001b[34;49mnotice\u001b[0m\u001b[1;39;49m]\u001b[0m\u001b[39;49m A new release of pip is available: \u001b[0m\u001b[31;49m23.0.1\u001b[0m\u001b[39;49m -> \u001b[0m\u001b[32;49m23.3.1\u001b[0m\n",
      "\u001b[1m[\u001b[0m\u001b[34;49mnotice\u001b[0m\u001b[1;39;49m]\u001b[0m\u001b[39;49m To update, run: \u001b[0m\u001b[32;49mpip install --upgrade pip\u001b[0m\n"
     ]
    }
   ],
   "source": [
    "import pandas as pd \n",
    "import seaborn as sns\n",
    "import matplotlib.pyplot as plt\n",
    "import plotly.express as px\n",
    "import numpy as np\n",
    "from scipy.stats import trim_mean\n",
    "\n",
    "from statsmodels import robust\n",
    "import wquantiles\n",
    "\n",
    "%matplotlib inline\n",
    "sns.set()\n",
    "from pathlib import Path"
   ]
  },
  {
   "cell_type": "markdown",
   "metadata": {
    "cell_id": "228993d5deff4904abfa32661f11c43c",
    "deepnote_cell_type": "markdown"
   },
   "source": [
    "## Initializing Datasets"
   ]
  },
  {
   "cell_type": "code",
   "execution_count": null,
   "metadata": {
    "cell_id": "df0c497122c9433392a8b6b0c168e762",
    "deepnote_cell_type": "code",
    "deepnote_to_be_reexecuted": false,
    "execution_millis": 36,
    "execution_start": 1699318661755,
    "source_hash": null
   },
   "outputs": [],
   "source": [
    "try:\n",
    "    import common\n",
    "    DATA = common.dataDirectory()\n",
    "except ImportError:\n",
    "    DATA = Path().resolve() / 'Datasets'\n",
    "\n",
    "CHILDREN_DEAD = DATA / 'Children-woman-death-vs-survival.csv'\n",
    "CAUSES_OF_DEAD = DATA / 'causes-of-death-in-children.csv'\n",
    "DEATHS_BY_AGE = DATA / 'child-deaths-by-age.csv'\n",
    "CHILD_MORTALITY_BY_AGE = DATA / 'child-mortality-by-sex.csv'"
   ]
  },
  {
   "cell_type": "code",
   "execution_count": null,
   "metadata": {
    "cell_id": "10cef091efe74baa8e69ad54d400296f",
    "deepnote_cell_type": "code",
    "deepnote_to_be_reexecuted": false,
    "execution_millis": 44,
    "execution_start": 1699318661767,
    "source_hash": null
   },
   "outputs": [],
   "source": [
    "df_children_dead = pd.read_csv(CHILDREN_DEAD)\n",
    "df_causes_of_dead = pd.read_csv(CAUSES_OF_DEAD)\n",
    "df_deaths_by_age = pd.read_csv(DEATHS_BY_AGE)"
   ]
  },
  {
   "cell_type": "code",
   "execution_count": null,
   "metadata": {
    "cell_id": "4b13f5498705483fba5e1eeacc20a227",
    "deepnote_cell_type": "code",
    "deepnote_to_be_reexecuted": false,
    "execution_millis": 51,
    "execution_start": 1699318661804,
    "source_hash": null
   },
   "outputs": [],
   "source": [
    "print(\"df_children_dead: \", df_children_dead.shape)\n",
    "print(\"df_deaths_by_age: \", df_deaths_by_age.shape)\n",
    "print(\"df_causes_of_dead: \", df_causes_of_dead.shape)"
   ]
  },
  {
   "cell_type": "code",
   "execution_count": null,
   "metadata": {
    "cell_id": "e32c1166a73b43e78ff6b30d3f168f59",
    "deepnote_cell_type": "code",
    "deepnote_to_be_reexecuted": false,
    "execution_millis": 51,
    "execution_start": 1699318661808,
    "source_hash": null
   },
   "outputs": [],
   "source": [
    "df_causes_age = df_deaths_by_age.merge(df_causes_of_dead, how='inner')"
   ]
  },
  {
   "cell_type": "markdown",
   "metadata": {
    "cell_id": "380a82281747468a91b8394e69426991",
    "deepnote_cell_type": "markdown"
   },
   "source": [
    "## Measures of central tendency\n",
    "- Mean\n",
    "- Trimmed Mean\n",
    "- Median\n",
    "- Mode"
   ]
  },
  {
   "cell_type": "code",
   "execution_count": null,
   "metadata": {
    "cell_id": "72ae158942e74deebafdab4ebd581bf2",
    "deepnote_cell_type": "code",
    "deepnote_to_be_reexecuted": false,
    "execution_millis": 41,
    "execution_start": 1699318661816,
    "source_hash": null
   },
   "outputs": [
    {
     "name": "stdout",
     "output_type": "stream",
     "text": [
      "Mean of Children that died before 5 years of age per woman:  0.6017311377048156\n",
      "Trimmed Mean of Children that died before 5 years of age per woman:  0.5012645857494625\n",
      "Median of Children that died before 5 years of age per woman:  0.339934\n",
      "Mode of Children that died before 5 years of age per woman:  0.003528\n"
     ]
    }
   ],
   "source": [
    "print(\"Mean of Children that died before 5 years of age per woman: \", df_children_dead['Children that died before 5 years of age per woman (based on Gapminder (2017))'].mean())\n",
    "print(\"Trimmed Mean of Children that died before 5 years of age per woman: \", trim_mean(df_children_dead['Children that died before 5 years of age per woman (based on Gapminder (2017))'], 0.1))\n",
    "print(\"Median of Children that died before 5 years of age per woman: \", df_children_dead['Children that died before 5 years of age per woman (based on Gapminder (2017))'].median())\n",
    "print(\"Mode of Children that died before 5 years of age per woman: \", df_children_dead['Children that died before 5 years of age per woman (based on Gapminder (2017))'].mode()[0])"
   ]
  },
  {
   "cell_type": "code",
   "execution_count": null,
   "metadata": {
    "cell_id": "0c047b5be3c84592abe36337942f5459",
    "deepnote_cell_type": "code",
    "deepnote_to_be_reexecuted": false,
    "execution_millis": 3230,
    "execution_start": 1699318661831,
    "source_hash": null
   },
   "outputs": [
    {
     "data": {
      "text/plain": [
       "<matplotlib.legend.Legend at 0x7fd6462c01f0>"
      ]
     },
     "execution_count": 7,
     "metadata": {},
     "output_type": "execute_result"
    },
    {
     "data": {
      "image/png": "[encoded data removed]",
      "text/plain": [
       "<Figure size 640x480 with 1 Axes>"
      ]
     },
     "metadata": {
      "image/png": {
       "height": 463,
       "width": 576
      }
     },
     "output_type": "display_data"
    }
   ],
   "source": [
    "sns.lineplot(data=df_children_dead, x='Year', y='Children that died before 5 years of age per woman (based on Gapminder (2017))')\n",
    "plt.ylabel('Deaths of Children')\n",
    "plt.title('Children that died before 5 years of age per year')\n",
    "plt.axhline(\n",
    "    df_children_dead['Children that died before 5 years of age per woman (based on Gapminder (2017))'].mean(),\n",
    "    color=\"red\",\n",
    "    linestyle=\"--\",\n",
    "    label='Mean'\n",
    ")\n",
    "plt.axhline(\n",
    "    df_children_dead['Children that died before 5 years of age per woman (based on Gapminder (2017))'].median(),\n",
    "    color='blue',\n",
    "    linestyle=\":\",\n",
    "    label='Median'\n",
    ")\n",
    "plt.axhline(\n",
    "    trim_mean(df_children_dead['Children that died before 5 years of age per woman (based on Gapminder (2017))'],0.1),\n",
    "    color='green',\n",
    "    linestyle=\"-.\",\n",
    "    label='Trimmed Mean'\n",
    ")\n",
    "labels = ['Deaths', '', 'Mean', 'Median', 'Trimmed Mean']\n",
    "\n",
    "plt.legend(labels)\n"
   ]
  },
  {
   "cell_type": "code",
   "execution_count": null,
   "metadata": {
    "cell_id": "8d4640064aee4988b456e8320ebc8f8f",
    "deepnote_cell_type": "code",
    "deepnote_to_be_reexecuted": false,
    "execution_millis": 31,
    "execution_start": 1699318665378,
    "source_hash": null
   },
   "outputs": [
    {
     "name": "stdout",
     "output_type": "stream",
     "text": [
      "Stardard Deviation:  0.6481450563544375\n",
      "Variance:  0.42009201407669694\n",
      "Range:  3.4278958\n",
      "Mean Deviation:  0.5348846408768809\n"
     ]
    }
   ],
   "source": [
    "print(\"Stardard Deviation: \", df_children_dead['Children that died before 5 years of age per woman (based on Gapminder (2017))'].std())\n",
    "print(\"Variance: \", df_children_dead['Children that died before 5 years of age per woman (based on Gapminder (2017))'].var())\n",
    "print(\"Range: \", \\\n",
    "df_children_dead['Children that died before 5 years of age per woman (based on Gapminder (2017))'].max() - df_children_dead['Children that died before 5 years of age per woman (based on Gapminder (2017))'].min()\n",
    ")\n",
    "print(\"Mean Deviation: \", df_children_dead['Children that died before 5 years of age per woman (based on Gapminder (2017))'].mad())"
   ]
  },
  {
   "cell_type": "code",
   "execution_count": null,
   "metadata": {
    "cell_id": "add50d77992c4dcbadfa4054c27f6427",
    "deepnote_cell_type": "code",
    "deepnote_to_be_reexecuted": false,
    "execution_millis": 476,
    "execution_start": 1699318665384,
    "source_hash": null
   },
   "outputs": [
    {
     "data": {
      "text/plain": [
       "<matplotlib.legend.Legend at 0x7fd642360670>"
      ]
     },
     "execution_count": 9,
     "metadata": {},
     "output_type": "execute_result"
    },
    {
     "data": {
      "image/png": "[encoded data removed]",
      "text/plain": [
       "<Figure size 640x480 with 1 Axes>"
      ]
     },
     "metadata": {
      "image/png": {
       "height": 463,
       "width": 586
      }
     },
     "output_type": "display_data"
    }
   ],
   "source": [
    "df_children_dead_from_90s = df_children_dead[df_children_dead['Year'] >= 1990]\n",
    "sns.lineplot(data=df_children_dead_from_90s, x='Year', y='Children that died before 5 years of age per woman (based on Gapminder (2017))')\n",
    "plt.ylabel('Deaths of Children')\n",
    "plt.title('Children that died before 5 years from 1990')\n",
    "plt.axhline(\n",
    "    df_children_dead_from_90s['Children that died before 5 years of age per woman (based on Gapminder (2017))'].mean(),\n",
    "    color=\"red\",\n",
    "    linestyle=\"--\",\n",
    "    label='Mean'\n",
    ")\n",
    "plt.axhline(\n",
    "    df_children_dead_from_90s['Children that died before 5 years of age per woman (based on Gapminder (2017))'].median(),\n",
    "    color='blue',\n",
    "    linestyle=\":\",\n",
    "    label='Median'\n",
    ")\n",
    "plt.axhline(\n",
    "    trim_mean(df_children_dead_from_90s['Children that died before 5 years of age per woman (based on Gapminder (2017))'],0.1),\n",
    "    color='green',\n",
    "    linestyle=\"-.\",\n",
    "    label='Trimmed Mean'\n",
    ")\n",
    "#labels = ['Deaths', '', 'Mean', 'Median', 'Trimmed Mean']\n",
    "\n",
    "plt.legend(labels)\n"
   ]
  },
  {
   "cell_type": "code",
   "execution_count": null,
   "metadata": {
    "cell_id": "7d214793833b4c94b78d7871204470c3",
    "deepnote_cell_type": "code",
    "deepnote_to_be_reexecuted": false,
    "execution_millis": 19,
    "execution_start": 1699318666182,
    "source_hash": null
   },
   "outputs": [],
   "source": [
    "years = df_causes_age.Year.unique()"
   ]
  },
  {
   "cell_type": "code",
   "execution_count": null,
   "metadata": {
    "cell_id": "c0ededb47b5d4d70b99b31ce27d46b48",
    "deepnote_cell_type": "code",
    "deepnote_to_be_reexecuted": false,
    "execution_millis": 33,
    "execution_start": 1699318666188,
    "source_hash": null
   },
   "outputs": [],
   "source": [
    "def split_array(lst:list, split_in:int = 2):\n",
    "    array_splitted = np.array_split(lst, split_in)\n",
    "    array_result = []\n",
    "    for i in range(len(array_splitted)):\n",
    "        array_result.append([array_splitted[i][0], array_splitted[i][-1]])\n",
    "    return array_result"
   ]
  },
  {
   "cell_type": "code",
   "execution_count": null,
   "metadata": {
    "cell_id": "e500828dc35e45d1a9f39d1053b8c74e",
    "deepnote_cell_type": "code",
    "deepnote_to_be_reexecuted": false,
    "execution_millis": 28,
    "execution_start": 1699318666192,
    "source_hash": null
   },
   "outputs": [],
   "source": [
    "Years = split_array(years, 4)"
   ]
  },
  {
   "cell_type": "code",
   "execution_count": null,
   "metadata": {
    "cell_id": "3443150ec7cd4482a74dd63bdb5b1a4a",
    "deepnote_cell_type": "code",
    "deepnote_to_be_reexecuted": false,
    "execution_millis": 60,
    "execution_start": 1699318666201,
    "source_hash": null
   },
   "outputs": [],
   "source": [
    "columns = df_causes_age.columns[3:]\n",
    "entities = df_causes_age.Entity.unique()"
   ]
  },
  {
   "cell_type": "code",
   "execution_count": null,
   "metadata": {
    "cell_id": "03506e2bf2284687b4466940b1abee85",
    "deepnote_cell_type": "code",
    "deepnote_to_be_reexecuted": false,
    "execution_millis": 51,
    "execution_start": 1699318666255,
    "source_hash": null
   },
   "outputs": [],
   "source": [
    "def get_mean_by_year(df:pd.DataFrame, years:list, mean_of:list):\n",
    "    data = {}\n",
    "    "
   ]
  },
  {
   "cell_type": "code",
   "execution_count": null,
   "metadata": {
    "cell_id": "aabbeb77c0a24520afd8063e125cd1d2",
    "deepnote_cell_type": "code",
    "deepnote_to_be_reexecuted": false,
    "execution_millis": 53,
    "execution_start": 1699318666255,
    "source_hash": null
   },
   "outputs": [
    {
     "data": {
      "application/vnd.deepnote.dataframe.v3+json": {
       "column_count": 24,
       "columns": [
        {
         "dtype": "object",
         "name": "Entity",
         "stats": {
          "categories": [
           {
            "count": 3,
            "name": "Afghanistan"
           }
          ],
          "nan_count": 0,
          "unique_count": 1
         }
        },
        {
         "dtype": "object",
         "name": "Code",
         "stats": {
          "categories": [
           {
            "count": 3,
            "name": "AFG"
           }
          ],
          "nan_count": 0,
          "unique_count": 1
         }
        },
        {
         "dtype": "int64",
         "name": "Year",
         "stats": {
          "histogram": [
           {
            "bin_end": 1990.2,
            "bin_start": 1990,
            "count": 1
           },
           {
            "bin_end": 1990.4,
            "bin_start": 1990.2,
            "count": 0
           },
           {
            "bin_end": 1990.6,
            "bin_start": 1990.4,
            "count": 0
           },
           {
            "bin_end": 1990.8,
            "bin_start": 1990.6,
            "count": 0
           },
           {
            "bin_end": 1991,
            "bin_start": 1990.8,
            "count": 0
           },
           {
            "bin_end": 1991.2,
            "bin_start": 1991,
            "count": 1
           },
           {
            "bin_end": 1991.4,
            "bin_start": 1991.2,
            "count": 0
           },
           {
            "bin_end": 1991.6,
            "bin_start": 1991.4,
            "count": 0
           },
           {
            "bin_end": 1991.8,
            "bin_start": 1991.6,
            "count": 0
           },
           {
            "bin_end": 1992,
            "bin_start": 1991.8,
            "count": 1
           }
          ],
          "max": "1992",
          "min": "1990",
          "nan_count": 0,
          "unique_count": 3
         }
        },
        {
         "dtype": "int64",
         "name": "Deaths - All causes - Sex: Both - Age: 7-27 days (Number)",
         "stats": {
          "histogram": [
           {
            "bin_end": 10172.6,
            "bin_start": 9869,
            "count": 1
           },
           {
            "bin_end": 10476.2,
            "bin_start": 10172.6,
            "count": 0
           },
           {
            "bin_end": 10779.8,
            "bin_start": 10476.2,
            "count": 0
           },
           {
            "bin_end": 11083.4,
            "bin_start": 10779.8,
            "count": 1
           },
           {
            "bin_end": 11387,
            "bin_start": 11083.4,
            "count": 0
           },
           {
            "bin_end": 11690.6,
            "bin_start": 11387,
            "count": 0
           },
           {
            "bin_end": 11994.2,
            "bin_start": 11690.6,
            "count": 0
           },
           {
            "bin_end": 12297.8,
            "bin_start": 11994.2,
            "count": 0
           },
           {
            "bin_end": 12601.4,
            "bin_start": 12297.8,
            "count": 0
           },
           {
            "bin_end": 12905,
            "bin_start": 12601.4,
            "count": 1
           }
          ],
          "max": "12905",
          "min": "9869",
          "nan_count": 0,
          "unique_count": 3
         }
        },
        {
         "dtype": "int64",
         "name": "Deaths - All causes - Sex: Both - Age: 1-4 years (Number)",
         "stats": {
          "histogram": [
           {
            "bin_end": 21601.4,
            "bin_start": 21565,
            "count": 1
           },
           {
            "bin_end": 21637.8,
            "bin_start": 21601.4,
            "count": 0
           },
           {
            "bin_end": 21674.2,
            "bin_start": 21637.8,
            "count": 0
           },
           {
            "bin_end": 21710.6,
            "bin_start": 21674.2,
            "count": 0
           },
           {
            "bin_end": 21747,
            "bin_start": 21710.6,
            "count": 0
           },
           {
            "bin_end": 21783.4,
            "bin_start": 21747,
            "count": 0
           },
           {
            "bin_end": 21819.8,
            "bin_start": 21783.4,
            "count": 1
           },
           {
            "bin_end": 21856.2,
            "bin_start": 21819.8,
            "count": 0
           },
           {
            "bin_end": 21892.6,
            "bin_start": 21856.2,
            "count": 0
           },
           {
            "bin_end": 21929,
            "bin_start": 21892.6,
            "count": 1
           }
          ],
          "max": "21929",
          "min": "21565",
          "nan_count": 0,
          "unique_count": 3
         }
        },
        {
         "dtype": "int64",
         "name": "Deaths - All causes - Sex: Both - Age: 0-6 days (Number)",
         "stats": {
          "histogram": [
           {
            "bin_end": 16116.4,
            "bin_start": 15560,
            "count": 1
           },
           {
            "bin_end": 16672.8,
            "bin_start": 16116.4,
            "count": 0
           },
           {
            "bin_end": 17229.2,
            "bin_start": 16672.8,
            "count": 0
           },
           {
            "bin_end": 17785.6,
            "bin_start": 17229.2,
            "count": 1
           },
           {
            "bin_end": 18342,
            "bin_start": 17785.6,
            "count": 0
           },
           {
            "bin_end": 18898.4,
            "bin_start": 18342,
            "count": 0
           },
           {
            "bin_end": 19454.8,
            "bin_start": 18898.4,
            "count": 0
           },
           {
            "bin_end": 20011.2,
            "bin_start": 19454.8,
            "count": 0
           },
           {
            "bin_end": 20567.6,
            "bin_start": 20011.2,
            "count": 0
           },
           {
            "bin_end": 21124,
            "bin_start": 20567.6,
            "count": 1
           }
          ],
          "max": "21124",
          "min": "15560",
          "nan_count": 0,
          "unique_count": 3
         }
        },
        {
         "dtype": "int64",
         "name": "Deaths - All causes - Sex: Both - Age: 28-364 days (Number)",
         "stats": {
          "histogram": [
           {
            "bin_end": 31626.2,
            "bin_start": 30929,
            "count": 1
           },
           {
            "bin_end": 32323.4,
            "bin_start": 31626.2,
            "count": 0
           },
           {
            "bin_end": 33020.6,
            "bin_start": 32323.4,
            "count": 1
           },
           {
            "bin_end": 33717.8,
            "bin_start": 33020.6,
            "count": 0
           },
           {
            "bin_end": 34415,
            "bin_start": 33717.8,
            "count": 0
           },
           {
            "bin_end": 35112.2,
            "bin_start": 34415,
            "count": 0
           },
           {
            "bin_end": 35809.4,
            "bin_start": 35112.2,
            "count": 0
           },
           {
            "bin_end": 36506.6,
            "bin_start": 35809.4,
            "count": 0
           },
           {
            "bin_end": 37203.8,
            "bin_start": 36506.6,
            "count": 0
           },
           {
            "bin_end": 37901,
            "bin_start": 37203.8,
            "count": 1
           }
          ],
          "max": "37901",
          "min": "30929",
          "nan_count": 0,
          "unique_count": 3
         }
        },
        {
         "dtype": "int64",
         "name": "Deaths - Malaria - Sex: Both - Age: Under 5 (Number)",
         "stats": {
          "histogram": [
           {
            "bin_end": 24,
            "bin_start": 21,
            "count": 1
           },
           {
            "bin_end": 27,
            "bin_start": 24,
            "count": 0
           },
           {
            "bin_end": 30,
            "bin_start": 27,
            "count": 0
           },
           {
            "bin_end": 33,
            "bin_start": 30,
            "count": 0
           },
           {
            "bin_end": 36,
            "bin_start": 33,
            "count": 0
           },
           {
            "bin_end": 39,
            "bin_start": 36,
            "count": 0
           },
           {
            "bin_end": 42,
            "bin_start": 39,
            "count": 1
           },
           {
            "bin_end": 45,
            "bin_start": 42,
            "count": 0
           },
           {
            "bin_end": 48,
            "bin_start": 45,
            "count": 0
           },
           {
            "bin_end": 51,
            "bin_start": 48,
            "count": 1
           }
          ],
          "max": "51",
          "min": "21",
          "nan_count": 0,
          "unique_count": 3
         }
        },
        {
         "dtype": "int64",
         "name": "Deaths - HIV/AIDS - Sex: Both - Age: Under 5 (Number)",
         "stats": {
          "histogram": [
           {
            "bin_end": 10.3,
            "bin_start": 10,
            "count": 1
           },
           {
            "bin_end": 10.6,
            "bin_start": 10.3,
            "count": 0
           },
           {
            "bin_end": 10.9,
            "bin_start": 10.6,
            "count": 0
           },
           {
            "bin_end": 11.2,
            "bin_start": 10.9,
            "count": 0
           },
           {
            "bin_end": 11.5,
            "bin_start": 11.2,
            "count": 0
           },
           {
            "bin_end": 11.8,
            "bin_start": 11.5,
            "count": 0
           },
           {
            "bin_end": 12.1,
            "bin_start": 11.8,
            "count": 1
           },
           {
            "bin_end": 12.4,
            "bin_start": 12.1,
            "count": 0
           },
           {
            "bin_end": 12.7,
            "bin_start": 12.4,
            "count": 0
           },
           {
            "bin_end": 13,
            "bin_start": 12.7,
            "count": 1
           }
          ],
          "max": "13",
          "min": "10",
          "nan_count": 0,
          "unique_count": 3
         }
        },
        {
         "dtype": "int64",
         "name": "Deaths - Meningitis - Sex: Both - Age: Under 5 (Number)",
         "stats": {
          "histogram": [
           {
            "bin_end": 1733.5,
            "bin_start": 1709,
            "count": 1
           },
           {
            "bin_end": 1758,
            "bin_start": 1733.5,
            "count": 1
           },
           {
            "bin_end": 1782.5,
            "bin_start": 1758,
            "count": 0
           },
           {
            "bin_end": 1807,
            "bin_start": 1782.5,
            "count": 0
           },
           {
            "bin_end": 1831.5,
            "bin_start": 1807,
            "count": 0
           },
           {
            "bin_end": 1856,
            "bin_start": 1831.5,
            "count": 0
           },
           {
            "bin_end": 1880.5,
            "bin_start": 1856,
            "count": 0
           },
           {
            "bin_end": 1905,
            "bin_start": 1880.5,
            "count": 0
           },
           {
            "bin_end": 1929.5,
            "bin_start": 1905,
            "count": 0
           },
           {
            "bin_end": 1954,
            "bin_start": 1929.5,
            "count": 1
           }
          ],
          "max": "1954",
          "min": "1709",
          "nan_count": 0,
          "unique_count": 3
         }
        },
        {
         "dtype": "int64",
         "name": "Deaths - Nutritional deficiencies - Sex: Both - Age: Under 5 (Number)",
         "stats": {
          "histogram": [
           {
            "bin_end": 1808,
            "bin_start": 1779,
            "count": 1
           },
           {
            "bin_end": 1837,
            "bin_start": 1808,
            "count": 1
           },
           {
            "bin_end": 1866,
            "bin_start": 1837,
            "count": 0
           },
           {
            "bin_end": 1895,
            "bin_start": 1866,
            "count": 0
           },
           {
            "bin_end": 1924,
            "bin_start": 1895,
            "count": 0
           },
           {
            "bin_end": 1953,
            "bin_start": 1924,
            "count": 0
           },
           {
            "bin_end": 1982,
            "bin_start": 1953,
            "count": 0
           },
           {
            "bin_end": 2011,
            "bin_start": 1982,
            "count": 0
           },
           {
            "bin_end": 2040,
            "bin_start": 2011,
            "count": 0
           },
           {
            "bin_end": 2069,
            "bin_start": 2040,
            "count": 1
           }
          ],
          "max": "2069",
          "min": "1779",
          "nan_count": 0,
          "unique_count": 3
         }
        },
        {
         "dtype": "int64",
         "name": "Deaths - Other neonatal disorders - Sex: Both - Age: Under 5 (Number)",
         "stats": {
          "histogram": [
           {
            "bin_end": 7262.2,
            "bin_start": 7112,
            "count": 1
           },
           {
            "bin_end": 7412.4,
            "bin_start": 7262.2,
            "count": 0
           },
           {
            "bin_end": 7562.6,
            "bin_start": 7412.4,
            "count": 0
           },
           {
            "bin_end": 7712.8,
            "bin_start": 7562.6,
            "count": 1
           },
           {
            "bin_end": 7863,
            "bin_start": 7712.8,
            "count": 0
           },
           {
            "bin_end": 8013.2,
            "bin_start": 7863,
            "count": 0
           },
           {
            "bin_end": 8163.4,
            "bin_start": 8013.2,
            "count": 0
           },
           {
            "bin_end": 8313.6,
            "bin_start": 8163.4,
            "count": 0
           },
           {
            "bin_end": 8463.8,
            "bin_start": 8313.6,
            "count": 0
           },
           {
            "bin_end": 8614,
            "bin_start": 8463.8,
            "count": 1
           }
          ],
          "max": "8614",
          "min": "7112",
          "nan_count": 0,
          "unique_count": 3
         }
        },
        {
         "dtype": "int64",
         "name": "Deaths - Whooping cough - Sex: Both - Age: Under 5 (Number)",
         "stats": {
          "histogram": [
           {
            "bin_end": 2378.5,
            "bin_start": 2370,
            "count": 1
           },
           {
            "bin_end": 2387,
            "bin_start": 2378.5,
            "count": 1
           },
           {
            "bin_end": 2395.5,
            "bin_start": 2387,
            "count": 0
           },
           {
            "bin_end": 2404,
            "bin_start": 2395.5,
            "count": 0
           },
           {
            "bin_end": 2412.5,
            "bin_start": 2404,
            "count": 0
           },
           {
            "bin_end": 2421,
            "bin_start": 2412.5,
            "count": 0
           },
           {
            "bin_end": 2429.5,
            "bin_start": 2421,
            "count": 0
           },
           {
            "bin_end": 2438,
            "bin_start": 2429.5,
            "count": 0
           },
           {
            "bin_end": 2446.5,
            "bin_start": 2438,
            "count": 0
           },
           {
            "bin_end": 2455,
            "bin_start": 2446.5,
            "count": 1
           }
          ],
          "max": "2455",
          "min": "2370",
          "nan_count": 0,
          "unique_count": 3
         }
        },
        {
         "dtype": "int64",
         "name": "Deaths - Lower respiratory infections - Sex: Both - Age: Under 5 (Number)",
         "stats": {
          "histogram": [
           {
            "bin_end": 20560.1,
            "bin_start": 20224,
            "count": 1
           },
           {
            "bin_end": 20896.2,
            "bin_start": 20560.1,
            "count": 1
           },
           {
            "bin_end": 21232.3,
            "bin_start": 20896.2,
            "count": 0
           },
           {
            "bin_end": 21568.4,
            "bin_start": 21232.3,
            "count": 0
           },
           {
            "bin_end": 21904.5,
            "bin_start": 21568.4,
            "count": 0
           },
           {
            "bin_end": 22240.6,
            "bin_start": 21904.5,
            "count": 0
           },
           {
            "bin_end": 22576.7,
            "bin_start": 22240.6,
            "count": 0
           },
           {
            "bin_end": 22912.8,
            "bin_start": 22576.7,
            "count": 0
           },
           {
            "bin_end": 23248.9,
            "bin_start": 22912.8,
            "count": 0
           },
           {
            "bin_end": 23585,
            "bin_start": 23248.9,
            "count": 1
           }
          ],
          "max": "23585",
          "min": "20224",
          "nan_count": 0,
          "unique_count": 3
         }
        },
        {
         "dtype": "int64",
         "name": "Deaths - Congenital birth defects - Sex: Both - Age: Under 5 (Number)",
         "stats": {
          "histogram": [
           {
            "bin_end": 13146.2,
            "bin_start": 12850,
            "count": 1
           },
           {
            "bin_end": 13442.4,
            "bin_start": 13146.2,
            "count": 0
           },
           {
            "bin_end": 13738.6,
            "bin_start": 13442.4,
            "count": 1
           },
           {
            "bin_end": 14034.8,
            "bin_start": 13738.6,
            "count": 0
           },
           {
            "bin_end": 14331,
            "bin_start": 14034.8,
            "count": 0
           },
           {
            "bin_end": 14627.2,
            "bin_start": 14331,
            "count": 0
           },
           {
            "bin_end": 14923.4,
            "bin_start": 14627.2,
            "count": 0
           },
           {
            "bin_end": 15219.6,
            "bin_start": 14923.4,
            "count": 0
           },
           {
            "bin_end": 15515.8,
            "bin_start": 15219.6,
            "count": 0
           },
           {
            "bin_end": 15812,
            "bin_start": 15515.8,
            "count": 1
           }
          ],
          "max": "15812",
          "min": "12850",
          "nan_count": 0,
          "unique_count": 3
         }
        },
        {
         "dtype": "int64",
         "name": "Deaths - Measles - Sex: Both - Age: Under 5 (Number)",
         "stats": {
          "histogram": [
           {
            "bin_end": 8552,
            "bin_start": 8539,
            "count": 1
           },
           {
            "bin_end": 8565,
            "bin_start": 8552,
            "count": 0
           },
           {
            "bin_end": 8578,
            "bin_start": 8565,
            "count": 0
           },
           {
            "bin_end": 8591,
            "bin_start": 8578,
            "count": 0
           },
           {
            "bin_end": 8604,
            "bin_start": 8591,
            "count": 0
           },
           {
            "bin_end": 8617,
            "bin_start": 8604,
            "count": 0
           },
           {
            "bin_end": 8630,
            "bin_start": 8617,
            "count": 0
           },
           {
            "bin_end": 8643,
            "bin_start": 8630,
            "count": 0
           },
           {
            "bin_end": 8656,
            "bin_start": 8643,
            "count": 1
           },
           {
            "bin_end": 8669,
            "bin_start": 8656,
            "count": 1
           }
          ],
          "max": "8669",
          "min": "8539",
          "nan_count": 0,
          "unique_count": 3
         }
        },
        {
         "dtype": "int64",
         "name": "Deaths - Neonatal sepsis and other neonatal infections - Sex: Both - Age: Under 5 (Number)",
         "stats": {
          "histogram": [
           {
            "bin_end": 444.2,
            "bin_start": 420,
            "count": 1
           },
           {
            "bin_end": 468.4,
            "bin_start": 444.2,
            "count": 0
           },
           {
            "bin_end": 492.6,
            "bin_start": 468.4,
            "count": 0
           },
           {
            "bin_end": 516.8,
            "bin_start": 492.6,
            "count": 0
           },
           {
            "bin_end": 541,
            "bin_start": 516.8,
            "count": 1
           },
           {
            "bin_end": 565.2,
            "bin_start": 541,
            "count": 0
           },
           {
            "bin_end": 589.4,
            "bin_start": 565.2,
            "count": 0
           },
           {
            "bin_end": 613.6,
            "bin_start": 589.4,
            "count": 0
           },
           {
            "bin_end": 637.8,
            "bin_start": 613.6,
            "count": 0
           },
           {
            "bin_end": 662,
            "bin_start": 637.8,
            "count": 1
           }
          ],
          "max": "662",
          "min": "420",
          "nan_count": 0,
          "unique_count": 3
         }
        },
        {
         "dtype": "int64",
         "name": "Deaths - Neonatal encephalopathy due to birth asphyxia and trauma - Sex: Both - Age: Under 5 (Number)",
         "stats": {
          "histogram": [
           {
            "bin_end": 1655.1,
            "bin_start": 1599,
            "count": 1
           },
           {
            "bin_end": 1711.2,
            "bin_start": 1655.1,
            "count": 0
           },
           {
            "bin_end": 1767.3,
            "bin_start": 1711.2,
            "count": 0
           },
           {
            "bin_end": 1823.4,
            "bin_start": 1767.3,
            "count": 1
           },
           {
            "bin_end": 1879.5,
            "bin_start": 1823.4,
            "count": 0
           },
           {
            "bin_end": 1935.6,
            "bin_start": 1879.5,
            "count": 0
           },
           {
            "bin_end": 1991.7,
            "bin_start": 1935.6,
            "count": 0
           },
           {
            "bin_end": 2047.8,
            "bin_start": 1991.7,
            "count": 0
           },
           {
            "bin_end": 2103.9,
            "bin_start": 2047.8,
            "count": 0
           },
           {
            "bin_end": 2160,
            "bin_start": 2103.9,
            "count": 1
           }
          ],
          "max": "2160",
          "min": "1599",
          "nan_count": 0,
          "unique_count": 3
         }
        },
        {
         "dtype": "int64",
         "name": "Deaths - Drowning - Sex: Both - Age: Under 5 (Number)",
         "stats": {
          "histogram": [
           {
            "bin_end": 750.9,
            "bin_start": 748,
            "count": 1
           },
           {
            "bin_end": 753.8,
            "bin_start": 750.9,
            "count": 0
           },
           {
            "bin_end": 756.7,
            "bin_start": 753.8,
            "count": 0
           },
           {
            "bin_end": 759.6,
            "bin_start": 756.7,
            "count": 0
           },
           {
            "bin_end": 762.5,
            "bin_start": 759.6,
            "count": 0
           },
           {
            "bin_end": 765.4,
            "bin_start": 762.5,
            "count": 0
           },
           {
            "bin_end": 768.3,
            "bin_start": 765.4,
            "count": 0
           },
           {
            "bin_end": 771.2,
            "bin_start": 768.3,
            "count": 0
           },
           {
            "bin_end": 774.1,
            "bin_start": 771.2,
            "count": 0
           },
           {
            "bin_end": 777,
            "bin_start": 774.1,
            "count": 2
           }
          ],
          "max": "777",
          "min": "748",
          "nan_count": 0,
          "unique_count": 3
         }
        },
        {
         "dtype": "int64",
         "name": "Deaths - Tuberculosis - Sex: Both - Age: Under 5 (Number)",
         "stats": {
          "histogram": [
           {
            "bin_end": 806.3,
            "bin_start": 800,
            "count": 1
           },
           {
            "bin_end": 812.6,
            "bin_start": 806.3,
            "count": 1
           },
           {
            "bin_end": 818.9,
            "bin_start": 812.6,
            "count": 0
           },
           {
            "bin_end": 825.2,
            "bin_start": 818.9,
            "count": 0
           },
           {
            "bin_end": 831.5,
            "bin_start": 825.2,
            "count": 0
           },
           {
            "bin_end": 837.8,
            "bin_start": 831.5,
            "count": 0
           },
           {
            "bin_end": 844.1,
            "bin_start": 837.8,
            "count": 0
           },
           {
            "bin_end": 850.4,
            "bin_start": 844.1,
            "count": 0
           },
           {
            "bin_end": 856.7,
            "bin_start": 850.4,
            "count": 0
           },
           {
            "bin_end": 863,
            "bin_start": 856.7,
            "count": 1
           }
          ],
          "max": "863",
          "min": "800",
          "nan_count": 0,
          "unique_count": 3
         }
        },
        {
         "dtype": "int64",
         "name": "Deaths - Neonatal preterm birth - Sex: Both - Age: Under 5 (Number)",
         "stats": {
          "histogram": [
           {
            "bin_end": 6289,
            "bin_start": 6088,
            "count": 1
           },
           {
            "bin_end": 6490,
            "bin_start": 6289,
            "count": 0
           },
           {
            "bin_end": 6691,
            "bin_start": 6490,
            "count": 0
           },
           {
            "bin_end": 6892,
            "bin_start": 6691,
            "count": 1
           },
           {
            "bin_end": 7093,
            "bin_start": 6892,
            "count": 0
           },
           {
            "bin_end": 7294,
            "bin_start": 7093,
            "count": 0
           },
           {
            "bin_end": 7495,
            "bin_start": 7294,
            "count": 0
           },
           {
            "bin_end": 7696,
            "bin_start": 7495,
            "count": 0
           },
           {
            "bin_end": 7897,
            "bin_start": 7696,
            "count": 0
           },
           {
            "bin_end": 8098,
            "bin_start": 7897,
            "count": 1
           }
          ],
          "max": "8098",
          "min": "6088",
          "nan_count": 0,
          "unique_count": 3
         }
        },
        {
         "dtype": "int64",
         "name": "Deaths - Diarrheal diseases - Sex: Both - Age: Under 5 (Number)",
         "stats": {
          "histogram": [
           {
            "bin_end": 4154.5,
            "bin_start": 3968,
            "count": 1
           },
           {
            "bin_end": 4341,
            "bin_start": 4154.5,
            "count": 0
           },
           {
            "bin_end": 4527.5,
            "bin_start": 4341,
            "count": 0
           },
           {
            "bin_end": 4714,
            "bin_start": 4527.5,
            "count": 1
           },
           {
            "bin_end": 4900.5,
            "bin_start": 4714,
            "count": 0
           },
           {
            "bin_end": 5087,
            "bin_start": 4900.5,
            "count": 0
           },
           {
            "bin_end": 5273.5,
            "bin_start": 5087,
            "count": 0
           },
           {
            "bin_end": 5460,
            "bin_start": 5273.5,
            "count": 0
           },
           {
            "bin_end": 5646.5,
            "bin_start": 5460,
            "count": 0
           },
           {
            "bin_end": 5833,
            "bin_start": 5646.5,
            "count": 1
           }
          ],
          "max": "5833",
          "min": "3968",
          "nan_count": 0,
          "unique_count": 3
         }
        },
        {
         "dtype": "int64",
         "name": "Deaths - Neoplasms - Sex: Both - Age: Under 5 (Number)",
         "stats": {
          "histogram": [
           {
            "bin_end": 436.5,
            "bin_start": 431,
            "count": 1
           },
           {
            "bin_end": 442,
            "bin_start": 436.5,
            "count": 1
           },
           {
            "bin_end": 447.5,
            "bin_start": 442,
            "count": 0
           },
           {
            "bin_end": 453,
            "bin_start": 447.5,
            "count": 0
           },
           {
            "bin_end": 458.5,
            "bin_start": 453,
            "count": 0
           },
           {
            "bin_end": 464,
            "bin_start": 458.5,
            "count": 0
           },
           {
            "bin_end": 469.5,
            "bin_start": 464,
            "count": 0
           },
           {
            "bin_end": 475,
            "bin_start": 469.5,
            "count": 0
           },
           {
            "bin_end": 480.5,
            "bin_start": 475,
            "count": 0
           },
           {
            "bin_end": 486,
            "bin_start": 480.5,
            "count": 1
           }
          ],
          "max": "486",
          "min": "431",
          "nan_count": 0,
          "unique_count": 3
         }
        },
        {
         "dtype": "int64",
         "name": "Deaths - Syphilis - Sex: Both - Age: Under 5 (Number)",
         "stats": {
          "histogram": [
           {
            "bin_end": 128.7,
            "bin_start": 123,
            "count": 1
           },
           {
            "bin_end": 134.4,
            "bin_start": 128.7,
            "count": 1
           },
           {
            "bin_end": 140.1,
            "bin_start": 134.4,
            "count": 0
           },
           {
            "bin_end": 145.8,
            "bin_start": 140.1,
            "count": 0
           },
           {
            "bin_end": 151.5,
            "bin_start": 145.8,
            "count": 0
           },
           {
            "bin_end": 157.2,
            "bin_start": 151.5,
            "count": 0
           },
           {
            "bin_end": 162.9,
            "bin_start": 157.2,
            "count": 0
           },
           {
            "bin_end": 168.6,
            "bin_start": 162.9,
            "count": 0
           },
           {
            "bin_end": 174.3,
            "bin_start": 168.6,
            "count": 0
           },
           {
            "bin_end": 180,
            "bin_start": 174.3,
            "count": 1
           }
          ],
          "max": "180",
          "min": "123",
          "nan_count": 0,
          "unique_count": 3
         }
        },
        {
         "dtype": "int64",
         "name": "_deepnote_index_column"
        }
       ],
       "row_count": 3,
       "rows": [
        {
         "Code": "AFG",
         "Deaths - All causes - Sex: Both - Age: 0-6 days (Number)": 15560,
         "Deaths - All causes - Sex: Both - Age: 1-4 years (Number)": 21812,
         "Deaths - All causes - Sex: Both - Age: 28-364 days (Number)": 30929,
         "Deaths - All causes - Sex: Both - Age: 7-27 days (Number)": 9869,
         "Deaths - Congenital birth defects - Sex: Both - Age: Under 5 (Number)": 12850,
         "Deaths - Diarrheal diseases - Sex: Both - Age: Under 5 (Number)": 3968,
         "Deaths - Drowning - Sex: Both - Age: Under 5 (Number)": 776,
         "Deaths - HIV/AIDS - Sex: Both - Age: Under 5 (Number)": 10,
         "Deaths - Lower respiratory infections - Sex: Both - Age: Under 5 (Number)": 20224,
         "Deaths - Malaria - Sex: Both - Age: Under 5 (Number)": 21,
         "Deaths - Measles - Sex: Both - Age: Under 5 (Number)": 8649,
         "Deaths - Meningitis - Sex: Both - Age: Under 5 (Number)": 1709,
         "Deaths - Neonatal encephalopathy due to birth asphyxia and trauma - Sex: Both - Age: Under 5 (Number)": 1599,
         "Deaths - Neonatal preterm birth - Sex: Both - Age: Under 5 (Number)": 6088,
         "Deaths - Neonatal sepsis and other neonatal infections - Sex: Both - Age: Under 5 (Number)": 420,
         "Deaths - Neoplasms - Sex: Both - Age: Under 5 (Number)": 431,
         "Deaths - Nutritional deficiencies - Sex: Both - Age: Under 5 (Number)": 1779,
         "Deaths - Other neonatal disorders - Sex: Both - Age: Under 5 (Number)": 7112,
         "Deaths - Syphilis - Sex: Both - Age: Under 5 (Number)": 123,
         "Deaths - Tuberculosis - Sex: Both - Age: Under 5 (Number)": 808,
         "Deaths - Whooping cough - Sex: Both - Age: Under 5 (Number)": 2455,
         "Entity": "Afghanistan",
         "Year": 1990,
         "_deepnote_index_column": 0
        },
        {
         "Code": "AFG",
         "Deaths - All causes - Sex: Both - Age: 0-6 days (Number)": 17665,
         "Deaths - All causes - Sex: Both - Age: 1-4 years (Number)": 21565,
         "Deaths - All causes - Sex: Both - Age: 28-364 days (Number)": 32841,
         "Deaths - All causes - Sex: Both - Age: 7-27 days (Number)": 10963,
         "Deaths - Congenital birth defects - Sex: Both - Age: Under 5 (Number)": 13701,
         "Deaths - Diarrheal diseases - Sex: Both - Age: Under 5 (Number)": 4650,
         "Deaths - Drowning - Sex: Both - Age: Under 5 (Number)": 748,
         "Deaths - HIV/AIDS - Sex: Both - Age: Under 5 (Number)": 12,
         "Deaths - Lower respiratory infections - Sex: Both - Age: Under 5 (Number)": 20879,
         "Deaths - Malaria - Sex: Both - Age: Under 5 (Number)": 41,
         "Deaths - Measles - Sex: Both - Age: Under 5 (Number)": 8669,
         "Deaths - Meningitis - Sex: Both - Age: Under 5 (Number)": 1743,
         "Deaths - Neonatal encephalopathy due to birth asphyxia and trauma - Sex: Both - Age: Under 5 (Number)": 1804,
         "Deaths - Neonatal preterm birth - Sex: Both - Age: Under 5 (Number)": 6791,
         "Deaths - Neonatal sepsis and other neonatal infections - Sex: Both - Age: Under 5 (Number)": 520,
         "Deaths - Neoplasms - Sex: Both - Age: Under 5 (Number)": 439,
         "Deaths - Nutritional deficiencies - Sex: Both - Age: Under 5 (Number)": 1822,
         "Deaths - Other neonatal disorders - Sex: Both - Age: Under 5 (Number)": 7574,
         "Deaths - Syphilis - Sex: Both - Age: Under 5 (Number)": 132,
         "Deaths - Tuberculosis - Sex: Both - Age: Under 5 (Number)": 800,
         "Deaths - Whooping cough - Sex: Both - Age: Under 5 (Number)": 2385,
         "Entity": "Afghanistan",
         "Year": 1991,
         "_deepnote_index_column": 1
        },
        {
         "Code": "AFG",
         "Deaths - All causes - Sex: Both - Age: 0-6 days (Number)": 21124,
         "Deaths - All causes - Sex: Both - Age: 1-4 years (Number)": 21929,
         "Deaths - All causes - Sex: Both - Age: 28-364 days (Number)": 37901,
         "Deaths - All causes - Sex: Both - Age: 7-27 days (Number)": 12905,
         "Deaths - Congenital birth defects - Sex: Both - Age: Under 5 (Number)": 15812,
         "Deaths - Diarrheal diseases - Sex: Both - Age: Under 5 (Number)": 5833,
         "Deaths - Drowning - Sex: Both - Age: Under 5 (Number)": 777,
         "Deaths - HIV/AIDS - Sex: Both - Age: Under 5 (Number)": 13,
         "Deaths - Lower respiratory infections - Sex: Both - Age: Under 5 (Number)": 23585,
         "Deaths - Malaria - Sex: Both - Age: Under 5 (Number)": 51,
         "Deaths - Measles - Sex: Both - Age: Under 5 (Number)": 8539,
         "Deaths - Meningitis - Sex: Both - Age: Under 5 (Number)": 1954,
         "Deaths - Neonatal encephalopathy due to birth asphyxia and trauma - Sex: Both - Age: Under 5 (Number)": 2160,
         "Deaths - Neonatal preterm birth - Sex: Both - Age: Under 5 (Number)": 8098,
         "Deaths - Neonatal sepsis and other neonatal infections - Sex: Both - Age: Under 5 (Number)": 662,
         "Deaths - Neoplasms - Sex: Both - Age: Under 5 (Number)": 486,
         "Deaths - Nutritional deficiencies - Sex: Both - Age: Under 5 (Number)": 2069,
         "Deaths - Other neonatal disorders - Sex: Both - Age: Under 5 (Number)": 8614,
         "Deaths - Syphilis - Sex: Both - Age: Under 5 (Number)": 180,
         "Deaths - Tuberculosis - Sex: Both - Age: Under 5 (Number)": 863,
         "Deaths - Whooping cough - Sex: Both - Age: Under 5 (Number)": 2370,
         "Entity": "Afghanistan",
         "Year": 1992,
         "_deepnote_index_column": 2
        }
       ]
      },
      "text/html": [
       "<div>\n",
       "<style scoped>\n",
       "    .dataframe tbody tr th:only-of-type {\n",
       "        vertical-align: middle;\n",
       "    }\n",
       "\n",
       "    .dataframe tbody tr th {\n",
       "        vertical-align: top;\n",
       "    }\n",
       "\n",
       "    .dataframe thead th {\n",
       "        text-align: right;\n",
       "    }\n",
       "</style>\n",
       "<table border=\"1\" class=\"dataframe\">\n",
       "  <thead>\n",
       "    <tr style=\"text-align: right;\">\n",
       "      <th></th>\n",
       "      <th>Entity</th>\n",
       "      <th>Code</th>\n",
       "      <th>Year</th>\n",
       "      <th>Deaths - All causes - Sex: Both - Age: 7-27 days (Number)</th>\n",
       "      <th>Deaths - All causes - Sex: Both - Age: 1-4 years (Number)</th>\n",
       "      <th>Deaths - All causes - Sex: Both - Age: 0-6 days (Number)</th>\n",
       "      <th>Deaths - All causes - Sex: Both - Age: 28-364 days (Number)</th>\n",
       "      <th>Deaths - Malaria - Sex: Both - Age: Under 5 (Number)</th>\n",
       "      <th>Deaths - HIV/AIDS - Sex: Both - Age: Under 5 (Number)</th>\n",
       "      <th>Deaths - Meningitis - Sex: Both - Age: Under 5 (Number)</th>\n",
       "      <th>...</th>\n",
       "      <th>Deaths - Congenital birth defects - Sex: Both - Age: Under 5 (Number)</th>\n",
       "      <th>Deaths - Measles - Sex: Both - Age: Under 5 (Number)</th>\n",
       "      <th>Deaths - Neonatal sepsis and other neonatal infections - Sex: Both - Age: Under 5 (Number)</th>\n",
       "      <th>Deaths - Neonatal encephalopathy due to birth asphyxia and trauma - Sex: Both - Age: Under 5 (Number)</th>\n",
       "      <th>Deaths - Drowning - Sex: Both - Age: Under 5 (Number)</th>\n",
       "      <th>Deaths - Tuberculosis - Sex: Both - Age: Under 5 (Number)</th>\n",
       "      <th>Deaths - Neonatal preterm birth - Sex: Both - Age: Under 5 (Number)</th>\n",
       "      <th>Deaths - Diarrheal diseases - Sex: Both - Age: Under 5 (Number)</th>\n",
       "      <th>Deaths - Neoplasms - Sex: Both - Age: Under 5 (Number)</th>\n",
       "      <th>Deaths - Syphilis - Sex: Both - Age: Under 5 (Number)</th>\n",
       "    </tr>\n",
       "  </thead>\n",
       "  <tbody>\n",
       "    <tr>\n",
       "      <th>0</th>\n",
       "      <td>Afghanistan</td>\n",
       "      <td>AFG</td>\n",
       "      <td>1990</td>\n",
       "      <td>9869</td>\n",
       "      <td>21812</td>\n",
       "      <td>15560</td>\n",
       "      <td>30929</td>\n",
       "      <td>21</td>\n",
       "      <td>10</td>\n",
       "      <td>1709</td>\n",
       "      <td>...</td>\n",
       "      <td>12850</td>\n",
       "      <td>8649</td>\n",
       "      <td>420</td>\n",
       "      <td>1599</td>\n",
       "      <td>776</td>\n",
       "      <td>808</td>\n",
       "      <td>6088</td>\n",
       "      <td>3968</td>\n",
       "      <td>431</td>\n",
       "      <td>123</td>\n",
       "    </tr>\n",
       "    <tr>\n",
       "      <th>1</th>\n",
       "      <td>Afghanistan</td>\n",
       "      <td>AFG</td>\n",
       "      <td>1991</td>\n",
       "      <td>10963</td>\n",
       "      <td>21565</td>\n",
       "      <td>17665</td>\n",
       "      <td>32841</td>\n",
       "      <td>41</td>\n",
       "      <td>12</td>\n",
       "      <td>1743</td>\n",
       "      <td>...</td>\n",
       "      <td>13701</td>\n",
       "      <td>8669</td>\n",
       "      <td>520</td>\n",
       "      <td>1804</td>\n",
       "      <td>748</td>\n",
       "      <td>800</td>\n",
       "      <td>6791</td>\n",
       "      <td>4650</td>\n",
       "      <td>439</td>\n",
       "      <td>132</td>\n",
       "    </tr>\n",
       "    <tr>\n",
       "      <th>2</th>\n",
       "      <td>Afghanistan</td>\n",
       "      <td>AFG</td>\n",
       "      <td>1992</td>\n",
       "      <td>12905</td>\n",
       "      <td>21929</td>\n",
       "      <td>21124</td>\n",
       "      <td>37901</td>\n",
       "      <td>51</td>\n",
       "      <td>13</td>\n",
       "      <td>1954</td>\n",
       "      <td>...</td>\n",
       "      <td>15812</td>\n",
       "      <td>8539</td>\n",
       "      <td>662</td>\n",
       "      <td>2160</td>\n",
       "      <td>777</td>\n",
       "      <td>863</td>\n",
       "      <td>8098</td>\n",
       "      <td>5833</td>\n",
       "      <td>486</td>\n",
       "      <td>180</td>\n",
       "    </tr>\n",
       "  </tbody>\n",
       "</table>\n",
       "<p>3 rows × 24 columns</p>\n",
       "</div>"
      ],
      "text/plain": [
       "        Entity Code  Year  \\\n",
       "0  Afghanistan  AFG  1990   \n",
       "1  Afghanistan  AFG  1991   \n",
       "2  Afghanistan  AFG  1992   \n",
       "\n",
       "   Deaths - All causes - Sex: Both - Age: 7-27 days (Number)  \\\n",
       "0                                               9869           \n",
       "1                                              10963           \n",
       "2                                              12905           \n",
       "\n",
       "   Deaths - All causes - Sex: Both - Age: 1-4 years (Number)  \\\n",
       "0                                              21812           \n",
       "1                                              21565           \n",
       "2                                              21929           \n",
       "\n",
       "   Deaths - All causes - Sex: Both - Age: 0-6 days (Number)  \\\n",
       "0                                              15560          \n",
       "1                                              17665          \n",
       "2                                              21124          \n",
       "\n",
       "   Deaths - All causes - Sex: Both - Age: 28-364 days (Number)  \\\n",
       "0                                              30929             \n",
       "1                                              32841             \n",
       "2                                              37901             \n",
       "\n",
       "   Deaths - Malaria - Sex: Both - Age: Under 5 (Number)  \\\n",
       "0                                                 21      \n",
       "1                                                 41      \n",
       "2                                                 51      \n",
       "\n",
       "   Deaths - HIV/AIDS - Sex: Both - Age: Under 5 (Number)  \\\n",
       "0                                                 10       \n",
       "1                                                 12       \n",
       "2                                                 13       \n",
       "\n",
       "   Deaths - Meningitis - Sex: Both - Age: Under 5 (Number)  ...  \\\n",
       "0                                               1709        ...   \n",
       "1                                               1743        ...   \n",
       "2                                               1954        ...   \n",
       "\n",
       "   Deaths - Congenital birth defects - Sex: Both - Age: Under 5 (Number)  \\\n",
       "0                                              12850                       \n",
       "1                                              13701                       \n",
       "2                                              15812                       \n",
       "\n",
       "   Deaths - Measles - Sex: Both - Age: Under 5 (Number)  \\\n",
       "0                                               8649      \n",
       "1                                               8669      \n",
       "2                                               8539      \n",
       "\n",
       "   Deaths - Neonatal sepsis and other neonatal infections - Sex: Both - Age: Under 5 (Number)  \\\n",
       "0                                                420                                            \n",
       "1                                                520                                            \n",
       "2                                                662                                            \n",
       "\n",
       "   Deaths - Neonatal encephalopathy due to birth asphyxia and trauma - Sex: Both - Age: Under 5 (Number)  \\\n",
       "0                                               1599                                                       \n",
       "1                                               1804                                                       \n",
       "2                                               2160                                                       \n",
       "\n",
       "   Deaths - Drowning - Sex: Both - Age: Under 5 (Number)  \\\n",
       "0                                                776       \n",
       "1                                                748       \n",
       "2                                                777       \n",
       "\n",
       "   Deaths - Tuberculosis - Sex: Both - Age: Under 5 (Number)  \\\n",
       "0                                                808           \n",
       "1                                                800           \n",
       "2                                                863           \n",
       "\n",
       "   Deaths - Neonatal preterm birth - Sex: Both - Age: Under 5 (Number)  \\\n",
       "0                                               6088                     \n",
       "1                                               6791                     \n",
       "2                                               8098                     \n",
       "\n",
       "   Deaths - Diarrheal diseases - Sex: Both - Age: Under 5 (Number)  \\\n",
       "0                                               3968                 \n",
       "1                                               4650                 \n",
       "2                                               5833                 \n",
       "\n",
       "   Deaths - Neoplasms - Sex: Both - Age: Under 5 (Number)  \\\n",
       "0                                                431        \n",
       "1                                                439        \n",
       "2                                                486        \n",
       "\n",
       "   Deaths - Syphilis - Sex: Both - Age: Under 5 (Number)  \n",
       "0                                                123      \n",
       "1                                                132      \n",
       "2                                                180      \n",
       "\n",
       "[3 rows x 24 columns]"
      ]
     },
     "execution_count": 15,
     "metadata": {},
     "output_type": "execute_result"
    }
   ],
   "source": [
    "df_causes_age.head(3)"
   ]
  }
 ],
 "metadata": {
  "deepnote": {},
  "deepnote_execution_queue": [],
  "deepnote_notebook_id": "c3fc58820a0f4381a74c09324c1670b1",
  "deepnote_persisted_session": {
   "createdAt": "2023-11-07T01:16:17.701Z"
  },
  "kernelspec": {
   "display_name": "Python 3 (ipykernel)",
   "language": "python",
   "name": "python3"
  },
  "language_info": {
   "codemirror_mode": {
    "name": "ipython",
    "version": 3
   },
   "file_extension": ".py",
   "mimetype": "text/x-python",
   "name": "python",
   "nbconvert_exporter": "python",
   "pygments_lexer": "ipython3",
   "version": "3.9.18"
  }
 },
 "nbformat": 4,
 "nbformat_minor": 4
}
