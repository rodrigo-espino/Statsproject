{
 "cells": [
  {
   "cell_type": "markdown",
   "id": "ccdc1442-e010-4209-ab3f-72d50dd3ab12",
   "metadata": {},
   "source": [
    "# Prediction Model Using RNN\n",
    "Based on the previous Analysis made on main_project.ipybn file, we are going to create a prediction model and see the future tendency of Child Mortality using RNN (Recurrent Neural Network) provided by TensorFlow framework of ANN"
   ]
  },
  {
   "cell_type": "markdown",
   "id": "26180b67-971e-4c08-87d6-4ad5ebb3a0a5",
   "metadata": {},
   "source": [
    "## Import libraries"
   ]
  },
  {
   "cell_type": "code",
   "execution_count": 1,
   "id": "1d5e51f1-f5c7-4c9a-8ab1-b65abd808c37",
   "metadata": {},
   "outputs": [
    {
     "name": "stderr",
     "output_type": "stream",
     "text": [
      "2023-12-05 23:38:27.557640: I tensorflow/tsl/cuda/cudart_stub.cc:28] Could not find cuda drivers on your machine, GPU will not be used.\n",
      "2023-12-05 23:38:28.025553: E tensorflow/compiler/xla/stream_executor/cuda/cuda_dnn.cc:9342] Unable to register cuDNN factory: Attempting to register factory for plugin cuDNN when one has already been registered\n",
      "2023-12-05 23:38:28.026045: E tensorflow/compiler/xla/stream_executor/cuda/cuda_fft.cc:609] Unable to register cuFFT factory: Attempting to register factory for plugin cuFFT when one has already been registered\n",
      "2023-12-05 23:38:28.028185: E tensorflow/compiler/xla/stream_executor/cuda/cuda_blas.cc:1518] Unable to register cuBLAS factory: Attempting to register factory for plugin cuBLAS when one has already been registered\n",
      "2023-12-05 23:38:28.257034: I tensorflow/tsl/cuda/cudart_stub.cc:28] Could not find cuda drivers on your machine, GPU will not be used.\n",
      "2023-12-05 23:38:28.261099: I tensorflow/core/platform/cpu_feature_guard.cc:182] This TensorFlow binary is optimized to use available CPU instructions in performance-critical operations.\n",
      "To enable the following instructions: AVX2 FMA, in other operations, rebuild TensorFlow with the appropriate compiler flags.\n",
      "2023-12-05 23:38:30.913309: W tensorflow/compiler/tf2tensorrt/utils/py_utils.cc:38] TF-TRT Warning: Could not find TensorRT\n"
     ]
    }
   ],
   "source": [
    "import pandas as pd\n",
    "import warnings\n",
    "warnings.filterwarnings(\"ignore\")\n",
    "import tensorflow as tf\n",
    "import numpy as np \n",
    "import matplotlib.pyplot as plt \n",
    "import seaborn as sns \n",
    "from sklearn.preprocessing import StandardScaler\n",
    "from sklearn.model_selection import train_test_split\n",
    "from pathlib import Path\n",
    "sns.set()\n"
   ]
  },
  {
   "cell_type": "markdown",
   "id": "3d0a0d34-f1e1-482d-bf9b-6939daad1239",
   "metadata": {},
   "source": [
    "## Import datasets"
   ]
  },
  {
   "cell_type": "code",
   "execution_count": 2,
   "id": "26db7795-89c1-4ed7-8cb1-4bd10e724f4e",
   "metadata": {},
   "outputs": [],
   "source": [
    "try:\n",
    "    import common\n",
    "    DATA = common.dataDirectory()\n",
    "except ImportError:\n",
    "    DATA = Path().resolve() / 'Datasets'\n",
    "\n",
    "CHILDREN_DEAD = DATA / 'Children-woman-death-vs-survival.csv'"
   ]
  },
  {
   "cell_type": "code",
   "execution_count": 3,
   "id": "cbdf6297-2358-4b74-b165-5e9c6f254192",
   "metadata": {},
   "outputs": [
    {
     "data": {
      "text/html": [
       "<div>\n",
       "<style scoped>\n",
       "    .dataframe tbody tr th:only-of-type {\n",
       "        vertical-align: middle;\n",
       "    }\n",
       "\n",
       "    .dataframe tbody tr th {\n",
       "        vertical-align: top;\n",
       "    }\n",
       "\n",
       "    .dataframe thead th {\n",
       "        text-align: right;\n",
       "    }\n",
       "</style>\n",
       "<table border=\"1\" class=\"dataframe\">\n",
       "  <thead>\n",
       "    <tr style=\"text-align: right;\">\n",
       "      <th></th>\n",
       "      <th>Entity</th>\n",
       "      <th>Code</th>\n",
       "      <th>Year</th>\n",
       "      <th>Children that died before 5 years of age per woman (based on Gapminder (2017))</th>\n",
       "      <th>Children that survived past 5 years of age per woman (based on Gapminder (2017))</th>\n",
       "    </tr>\n",
       "  </thead>\n",
       "  <tbody>\n",
       "    <tr>\n",
       "      <th>0</th>\n",
       "      <td>Afghanistan</td>\n",
       "      <td>AFG</td>\n",
       "      <td>1957</td>\n",
       "      <td>2.855143</td>\n",
       "      <td>4.634857</td>\n",
       "    </tr>\n",
       "  </tbody>\n",
       "</table>\n",
       "</div>"
      ],
      "text/plain": [
       "        Entity Code  Year  \\\n",
       "0  Afghanistan  AFG  1957   \n",
       "\n",
       "   Children that died before 5 years of age per woman (based on Gapminder (2017))  \\\n",
       "0                                           2.855143                                \n",
       "\n",
       "   Children that survived past 5 years of age per woman (based on Gapminder (2017))  \n",
       "0                                           4.634857                                 "
      ]
     },
     "execution_count": 3,
     "metadata": {},
     "output_type": "execute_result"
    }
   ],
   "source": [
    "df_children_dead = pd.read_csv(CHILDREN_DEAD)\n",
    "df_children_dead.head(1)"
   ]
  },
  {
   "cell_type": "markdown",
   "id": "c9ebf2b9-3e29-4107-a997-06ed6d5a0e21",
   "metadata": {},
   "source": [
    "## Preprocessing data"
   ]
  },
  {
   "cell_type": "code",
   "execution_count": 4,
   "id": "89da1e24-1e6f-4427-bae8-bd0d60b32e10",
   "metadata": {},
   "outputs": [],
   "source": [
    "df_children_dead = df_children_dead.groupby('Year')['Children that died before 5 years of age per woman (based on Gapminder (2017))'].mean().reset_index()"
   ]
  },
  {
   "cell_type": "code",
   "execution_count": 5,
   "id": "1619557b-432b-46a6-84b6-d219437ffc66",
   "metadata": {},
   "outputs": [
    {
     "data": {
      "text/html": [
       "<div>\n",
       "<style scoped>\n",
       "    .dataframe tbody tr th:only-of-type {\n",
       "        vertical-align: middle;\n",
       "    }\n",
       "\n",
       "    .dataframe tbody tr th {\n",
       "        vertical-align: top;\n",
       "    }\n",
       "\n",
       "    .dataframe thead th {\n",
       "        text-align: right;\n",
       "    }\n",
       "</style>\n",
       "<table border=\"1\" class=\"dataframe\">\n",
       "  <thead>\n",
       "    <tr style=\"text-align: right;\">\n",
       "      <th></th>\n",
       "      <th>Year</th>\n",
       "      <th>Deaths</th>\n",
       "    </tr>\n",
       "  </thead>\n",
       "  <tbody>\n",
       "    <tr>\n",
       "      <th>0</th>\n",
       "      <td>1800</td>\n",
       "      <td>1.551118</td>\n",
       "    </tr>\n",
       "  </tbody>\n",
       "</table>\n",
       "</div>"
      ],
      "text/plain": [
       "   Year    Deaths\n",
       "0  1800  1.551118"
      ]
     },
     "execution_count": 5,
     "metadata": {},
     "output_type": "execute_result"
    }
   ],
   "source": [
    "df_children_dead = df_children_dead.rename(columns={'Children that died before 5 years of age per woman (based on Gapminder (2017))': 'Deaths'})\n",
    "df_children_dead.head(1)"
   ]
  },
  {
   "cell_type": "code",
   "execution_count": 6,
   "id": "9c3e9ec2-a470-4eec-886b-b850f2b6c42a",
   "metadata": {},
   "outputs": [
    {
     "data": {
      "text/plain": [
       "<AxesSubplot: xlabel='Year', ylabel='Deaths'>"
      ]
     },
     "execution_count": 6,
     "metadata": {},
     "output_type": "execute_result"
    },
    {
     "data": {
      "image/png": "[encoded data removed]",
      "text/plain": [
       "<Figure size 640x480 with 1 Axes>"
      ]
     },
     "metadata": {},
     "output_type": "display_data"
    }
   ],
   "source": [
    "sns.lineplot(x='Year', y='Deaths', data=df_children_dead)"
   ]
  },
  {
   "cell_type": "code",
   "execution_count": 7,
   "id": "63789988-d464-456b-bd39-1618910eaec9",
   "metadata": {},
   "outputs": [],
   "source": [
    "def create_dataset(series, time_step):\n",
    "    X, Y = [], []\n",
    "    for i in range(len(series) - time_step - 1):\n",
    "        a = series[i:(i + time_step), 0]\n",
    "        X.append(a)\n",
    "        Y.append(series[i + time_step, 0])\n",
    "    return np.array(X), np.array(Y)"
   ]
  },
  {
   "cell_type": "code",
   "execution_count": 8,
   "id": "f8b7f508-fc5a-45be-9d2e-d37b8bdf0cd4",
   "metadata": {},
   "outputs": [],
   "source": [
    "# los datos de valid_size se van a tomar del test\n",
    "def split_train_test_valid(X, Y, test_size = .3, valid_size = .2):\n",
    "    percentage_train = 1 - test_size\n",
    "    train_size = int(len(X) * percentage_train)\n",
    "    \n",
    "    #Tomamos el valor de test_size para separar training y test\n",
    "    X_train, X_test = X[:train_size], X[train_size:]\n",
    "    y_train, y_test = Y[:train_size], Y[train_size:]\n",
    "\n",
    "    percentage_test = 1 - valid_size\n",
    "    test_size = int(len(X_test) * percentage_test)\n",
    "    X_test, X_valid = X_test[:test_size], X_test[test_size:] \n",
    "    y_test, y_valid = y_test[:test_size], y_test[test_size:]\n",
    "\n",
    "    return X_train, X_test, X_valid, y_train, y_test, y_valid"
   ]
  },
  {
   "cell_type": "code",
   "execution_count": 9,
   "id": "ea3e5f96-b0bd-4451-a9ae-682ff2446c55",
   "metadata": {},
   "outputs": [],
   "source": [
    "series = df_children_dead['Deaths'].values.reshape(-1, 1)\n",
    "X, Y = create_dataset(series, 1)"
   ]
  },
  {
   "cell_type": "code",
   "execution_count": 10,
   "id": "dd9047b8-a202-491f-8fd7-2d61c0317bcf",
   "metadata": {},
   "outputs": [
    {
     "name": "stdout",
     "output_type": "stream",
     "text": [
      "X_train: 150, X_test: 52, X_Valid: 13, y_train: 150, y_test 52, y_valid: 13\n"
     ]
    }
   ],
   "source": [
    "X_train, X_test, X_valid, y_train, y_test, y_valid = split_train_test_valid(X, Y)\n",
    "print(f'X_train: {len(X_train)}, X_test: {len(X_test)}, X_Valid: {len(X_valid)}, y_train: {len(y_train)}, y_test {len(y_test)}, y_valid: {len(y_valid)}')"
   ]
  },
  {
   "cell_type": "markdown",
   "id": "be8f2c8d-df92-41d1-bb71-ab5b8d006cc1",
   "metadata": {},
   "source": [
    "## Model Creation"
   ]
  },
  {
   "cell_type": "code",
   "execution_count": 11,
   "id": "1378d91f-494c-4c7d-997a-60d4d9b4ec46",
   "metadata": {},
   "outputs": [],
   "source": [
    "neural = 24\n",
    "model = tf.keras.Sequential([\n",
    "    tf.keras.layers.SimpleRNN(neural, return_sequences=True,input_shape=[None, 1]),\n",
    "    tf.keras.layers.SimpleRNN(neural, return_sequences=True),\n",
    "    #tf.keras.layers.SimpleRNN(30, return_sequences=True),\n",
    "    tf.keras.layers.SimpleRNN(neural),\n",
    "    tf.keras.layers.Dense(1)\n",
    "])"
   ]
  },
  {
   "cell_type": "code",
   "execution_count": 12,
   "id": "52fb0cdf-0253-4878-96ec-5e21cc5b79c0",
   "metadata": {},
   "outputs": [],
   "source": [
    "def fit_and_evaluate(model, train_set, valid_set, learning_rate=0.001, epochs=500, batch_size = 29):\n",
    "    early_stopping_cb = tf.keras.callbacks.EarlyStopping(\n",
    "    monitor=\"val_loss\", patience=50, restore_best_weights=True)\n",
    "    opt = tf.keras.optimizers.Adam(\n",
    "    learning_rate=learning_rate)\n",
    "    model.compile(loss=tf.keras.losses.Huber(), optimizer=opt, metrics=[\"mae\"])\n",
    "    history = model.fit(X_train, y_train, epochs=epochs,\n",
    "                        validation_data=(X_valid, y_valid),\n",
    "                        callbacks=[early_stopping_cb], batch_size=batch_size)\n",
    "    valid_loss, valid_mae = model.evaluate(X_valid, y_valid)\n",
    "    return valid_mae * 1e6"
   ]
  },
  {
   "cell_type": "code",
   "execution_count": 13,
   "id": "d92f475f-767d-4cb6-9178-dd1302361a55",
   "metadata": {},
   "outputs": [
    {
     "data": {
      "text/plain": [
       "(150, 1, 1)"
      ]
     },
     "execution_count": 13,
     "metadata": {},
     "output_type": "execute_result"
    }
   ],
   "source": [
    "X_train = np.array(X_train).astype(np.float32)\n",
    "X_valid = np.array(X_valid).astype(np.float32)\n",
    "\n",
    "X_train = np.expand_dims(X_train, axis=-1)\n",
    "X_valid = np.expand_dims(X_valid, axis=-1)\n",
    "X_train.shape"
   ]
  },
  {
   "cell_type": "code",
   "execution_count": 14,
   "id": "5bca94f5-6b9e-4cf1-bb01-9f2365c962e1",
   "metadata": {},
   "outputs": [
    {
     "name": "stdout",
     "output_type": "stream",
     "text": [
      "Epoch 1/500\n",
      "6/6 [==============================] - 3s 101ms/step - loss: 0.9215 - mae: 1.4134 - val_loss: 0.0022 - val_mae: 0.0539\n",
      "Epoch 2/500\n",
      "6/6 [==============================] - 0s 11ms/step - loss: 0.4362 - mae: 0.8901 - val_loss: 0.0117 - val_mae: 0.1508\n",
      "Epoch 3/500\n",
      "6/6 [==============================] - 0s 27ms/step - loss: 0.1046 - mae: 0.3994 - val_loss: 0.0567 - val_mae: 0.3366\n",
      "Epoch 4/500\n",
      "6/6 [==============================] - 0s 11ms/step - loss: 0.0146 - mae: 0.1396 - val_loss: 0.1071 - val_mae: 0.4627\n",
      "Epoch 5/500\n",
      "6/6 [==============================] - 0s 12ms/step - loss: 0.0383 - mae: 0.2479 - val_loss: 0.1212 - val_mae: 0.4923\n",
      "Epoch 6/500\n",
      "6/6 [==============================] - 0s 11ms/step - loss: 0.0407 - mae: 0.2597 - val_loss: 0.0984 - val_mae: 0.4436\n",
      "Epoch 7/500\n",
      "6/6 [==============================] - 0s 10ms/step - loss: 0.0195 - mae: 0.1628 - val_loss: 0.0696 - val_mae: 0.3730\n",
      "Epoch 8/500\n",
      "6/6 [==============================] - 0s 10ms/step - loss: 0.0112 - mae: 0.1171 - val_loss: 0.0520 - val_mae: 0.3223\n",
      "Epoch 9/500\n",
      "6/6 [==============================] - 0s 10ms/step - loss: 0.0129 - mae: 0.1362 - val_loss: 0.0481 - val_mae: 0.3100\n",
      "Epoch 10/500\n",
      "6/6 [==============================] - 0s 10ms/step - loss: 0.0122 - mae: 0.1314 - val_loss: 0.0505 - val_mae: 0.3179\n",
      "Epoch 11/500\n",
      "6/6 [==============================] - 0s 20ms/step - loss: 0.0103 - mae: 0.1163 - val_loss: 0.0530 - val_mae: 0.3256\n",
      "Epoch 12/500\n",
      "6/6 [==============================] - 0s 11ms/step - loss: 0.0097 - mae: 0.1113 - val_loss: 0.0550 - val_mae: 0.3317\n",
      "Epoch 13/500\n",
      "6/6 [==============================] - 0s 11ms/step - loss: 0.0099 - mae: 0.1117 - val_loss: 0.0530 - val_mae: 0.3257\n",
      "Epoch 14/500\n",
      "6/6 [==============================] - 0s 10ms/step - loss: 0.0095 - mae: 0.1096 - val_loss: 0.0479 - val_mae: 0.3093\n",
      "Epoch 15/500\n",
      "6/6 [==============================] - 0s 11ms/step - loss: 0.0090 - mae: 0.1076 - val_loss: 0.0431 - val_mae: 0.2937\n",
      "Epoch 16/500\n",
      "6/6 [==============================] - 0s 10ms/step - loss: 0.0087 - mae: 0.1056 - val_loss: 0.0415 - val_mae: 0.2879\n",
      "Epoch 17/500\n",
      "6/6 [==============================] - 0s 12ms/step - loss: 0.0085 - mae: 0.1038 - val_loss: 0.0402 - val_mae: 0.2837\n",
      "Epoch 18/500\n",
      "6/6 [==============================] - 0s 17ms/step - loss: 0.0084 - mae: 0.1029 - val_loss: 0.0395 - val_mae: 0.2810\n",
      "Epoch 19/500\n",
      "6/6 [==============================] - 0s 10ms/step - loss: 0.0081 - mae: 0.1019 - val_loss: 0.0360 - val_mae: 0.2684\n",
      "Epoch 20/500\n",
      "6/6 [==============================] - 0s 10ms/step - loss: 0.0079 - mae: 0.1001 - val_loss: 0.0328 - val_mae: 0.2560\n",
      "Epoch 21/500\n",
      "6/6 [==============================] - 0s 11ms/step - loss: 0.0076 - mae: 0.0984 - val_loss: 0.0316 - val_mae: 0.2513\n",
      "Epoch 22/500\n",
      "6/6 [==============================] - 0s 11ms/step - loss: 0.0074 - mae: 0.0971 - val_loss: 0.0300 - val_mae: 0.2449\n",
      "Epoch 23/500\n",
      "6/6 [==============================] - 0s 11ms/step - loss: 0.0072 - mae: 0.0956 - val_loss: 0.0276 - val_mae: 0.2351\n",
      "Epoch 24/500\n",
      "6/6 [==============================] - 0s 9ms/step - loss: 0.0070 - mae: 0.0940 - val_loss: 0.0250 - val_mae: 0.2238\n",
      "Epoch 25/500\n",
      "6/6 [==============================] - 0s 9ms/step - loss: 0.0068 - mae: 0.0923 - val_loss: 0.0226 - val_mae: 0.2125\n",
      "Epoch 26/500\n",
      "6/6 [==============================] - 0s 12ms/step - loss: 0.0066 - mae: 0.0910 - val_loss: 0.0212 - val_mae: 0.2057\n",
      "Epoch 27/500\n",
      "6/6 [==============================] - 0s 9ms/step - loss: 0.0064 - mae: 0.0896 - val_loss: 0.0202 - val_mae: 0.2010\n",
      "Epoch 28/500\n",
      "6/6 [==============================] - 0s 10ms/step - loss: 0.0062 - mae: 0.0888 - val_loss: 0.0192 - val_mae: 0.1957\n",
      "Epoch 29/500\n",
      "6/6 [==============================] - 0s 10ms/step - loss: 0.0060 - mae: 0.0875 - val_loss: 0.0170 - val_mae: 0.1843\n",
      "Epoch 30/500\n",
      "6/6 [==============================] - 0s 10ms/step - loss: 0.0059 - mae: 0.0859 - val_loss: 0.0150 - val_mae: 0.1732\n",
      "Epoch 31/500\n",
      "6/6 [==============================] - 0s 9ms/step - loss: 0.0057 - mae: 0.0843 - val_loss: 0.0138 - val_mae: 0.1662\n",
      "Epoch 32/500\n",
      "6/6 [==============================] - 0s 9ms/step - loss: 0.0056 - mae: 0.0830 - val_loss: 0.0122 - val_mae: 0.1562\n",
      "Epoch 33/500\n",
      "6/6 [==============================] - 0s 9ms/step - loss: 0.0054 - mae: 0.0816 - val_loss: 0.0111 - val_mae: 0.1490\n",
      "Epoch 34/500\n",
      "6/6 [==============================] - 0s 10ms/step - loss: 0.0053 - mae: 0.0805 - val_loss: 0.0099 - val_mae: 0.1409\n",
      "Epoch 35/500\n",
      "6/6 [==============================] - 0s 11ms/step - loss: 0.0051 - mae: 0.0795 - val_loss: 0.0092 - val_mae: 0.1360\n",
      "Epoch 36/500\n",
      "6/6 [==============================] - 0s 12ms/step - loss: 0.0050 - mae: 0.0781 - val_loss: 0.0077 - val_mae: 0.1243\n",
      "Epoch 37/500\n",
      "6/6 [==============================] - 0s 14ms/step - loss: 0.0049 - mae: 0.0767 - val_loss: 0.0070 - val_mae: 0.1186\n",
      "Epoch 38/500\n",
      "6/6 [==============================] - 0s 11ms/step - loss: 0.0048 - mae: 0.0765 - val_loss: 0.0064 - val_mae: 0.1128\n",
      "Epoch 39/500\n",
      "6/6 [==============================] - 0s 10ms/step - loss: 0.0047 - mae: 0.0746 - val_loss: 0.0053 - val_mae: 0.1026\n",
      "Epoch 40/500\n",
      "6/6 [==============================] - 0s 10ms/step - loss: 0.0046 - mae: 0.0733 - val_loss: 0.0045 - val_mae: 0.0946\n",
      "Epoch 41/500\n",
      "6/6 [==============================] - 0s 9ms/step - loss: 0.0045 - mae: 0.0721 - val_loss: 0.0043 - val_mae: 0.0924\n",
      "Epoch 42/500\n",
      "6/6 [==============================] - 0s 9ms/step - loss: 0.0044 - mae: 0.0721 - val_loss: 0.0036 - val_mae: 0.0849\n",
      "Epoch 43/500\n",
      "6/6 [==============================] - 0s 9ms/step - loss: 0.0044 - mae: 0.0712 - val_loss: 0.0031 - val_mae: 0.0793\n",
      "Epoch 44/500\n",
      "6/6 [==============================] - 0s 10ms/step - loss: 0.0043 - mae: 0.0703 - val_loss: 0.0026 - val_mae: 0.0721\n",
      "Epoch 45/500\n",
      "6/6 [==============================] - 0s 9ms/step - loss: 0.0042 - mae: 0.0688 - val_loss: 0.0020 - val_mae: 0.0638\n",
      "Epoch 46/500\n",
      "6/6 [==============================] - 0s 24ms/step - loss: 0.0042 - mae: 0.0675 - val_loss: 0.0016 - val_mae: 0.0570\n",
      "Epoch 47/500\n",
      "6/6 [==============================] - 0s 12ms/step - loss: 0.0042 - mae: 0.0674 - val_loss: 0.0015 - val_mae: 0.0548\n",
      "Epoch 48/500\n",
      "6/6 [==============================] - 0s 11ms/step - loss: 0.0041 - mae: 0.0671 - val_loss: 0.0013 - val_mae: 0.0509\n",
      "Epoch 49/500\n",
      "6/6 [==============================] - 0s 12ms/step - loss: 0.0040 - mae: 0.0667 - val_loss: 0.0010 - val_mae: 0.0446\n",
      "Epoch 50/500\n",
      "6/6 [==============================] - 0s 10ms/step - loss: 0.0040 - mae: 0.0653 - val_loss: 6.6773e-04 - val_mae: 0.0362\n",
      "Epoch 51/500\n",
      "6/6 [==============================] - 0s 10ms/step - loss: 0.0040 - mae: 0.0639 - val_loss: 4.6573e-04 - val_mae: 0.0301\n",
      "Epoch 52/500\n",
      "6/6 [==============================] - 0s 10ms/step - loss: 0.0040 - mae: 0.0631 - val_loss: 3.9366e-04 - val_mae: 0.0276\n",
      "Epoch 53/500\n",
      "6/6 [==============================] - 0s 9ms/step - loss: 0.0040 - mae: 0.0655 - val_loss: 5.1992e-04 - val_mae: 0.0317\n",
      "Epoch 54/500\n",
      "6/6 [==============================] - 0s 10ms/step - loss: 0.0040 - mae: 0.0662 - val_loss: 2.8427e-04 - val_mae: 0.0231\n",
      "Epoch 55/500\n",
      "6/6 [==============================] - 0s 10ms/step - loss: 0.0038 - mae: 0.0632 - val_loss: 1.4738e-04 - val_mae: 0.0162\n",
      "Epoch 56/500\n",
      "6/6 [==============================] - 0s 11ms/step - loss: 0.0038 - mae: 0.0617 - val_loss: 8.5731e-05 - val_mae: 0.0117\n",
      "Epoch 57/500\n",
      "6/6 [==============================] - 0s 11ms/step - loss: 0.0038 - mae: 0.0614 - val_loss: 6.6863e-05 - val_mae: 0.0099\n",
      "Epoch 58/500\n",
      "6/6 [==============================] - 0s 12ms/step - loss: 0.0038 - mae: 0.0613 - val_loss: 4.6922e-05 - val_mae: 0.0079\n",
      "Epoch 59/500\n",
      "6/6 [==============================] - 0s 11ms/step - loss: 0.0038 - mae: 0.0622 - val_loss: 4.0510e-05 - val_mae: 0.0072\n",
      "Epoch 60/500\n",
      "6/6 [==============================] - 0s 12ms/step - loss: 0.0038 - mae: 0.0617 - val_loss: 2.0842e-05 - val_mae: 0.0054\n",
      "Epoch 61/500\n",
      "6/6 [==============================] - 0s 11ms/step - loss: 0.0038 - mae: 0.0603 - val_loss: 2.1912e-05 - val_mae: 0.0056\n",
      "Epoch 62/500\n",
      "6/6 [==============================] - 0s 9ms/step - loss: 0.0038 - mae: 0.0617 - val_loss: 2.6156e-05 - val_mae: 0.0060\n",
      "Epoch 63/500\n",
      "6/6 [==============================] - 0s 10ms/step - loss: 0.0039 - mae: 0.0642 - val_loss: 2.9560e-05 - val_mae: 0.0063\n",
      "Epoch 64/500\n",
      "6/6 [==============================] - 0s 10ms/step - loss: 0.0038 - mae: 0.0616 - val_loss: 2.5217e-05 - val_mae: 0.0061\n",
      "Epoch 65/500\n",
      "6/6 [==============================] - 0s 9ms/step - loss: 0.0038 - mae: 0.0591 - val_loss: 4.2705e-05 - val_mae: 0.0077\n",
      "Epoch 66/500\n",
      "6/6 [==============================] - 0s 10ms/step - loss: 0.0038 - mae: 0.0594 - val_loss: 3.3764e-05 - val_mae: 0.0069\n",
      "Epoch 67/500\n",
      "6/6 [==============================] - 0s 10ms/step - loss: 0.0037 - mae: 0.0599 - val_loss: 3.3276e-05 - val_mae: 0.0069\n",
      "Epoch 68/500\n",
      "6/6 [==============================] - 0s 10ms/step - loss: 0.0038 - mae: 0.0619 - val_loss: 4.0164e-05 - val_mae: 0.0076\n",
      "Epoch 69/500\n",
      "6/6 [==============================] - 0s 10ms/step - loss: 0.0037 - mae: 0.0599 - val_loss: 1.1686e-04 - val_mae: 0.0138\n",
      "Epoch 70/500\n",
      "6/6 [==============================] - 0s 10ms/step - loss: 0.0038 - mae: 0.0584 - val_loss: 1.4083e-04 - val_mae: 0.0154\n",
      "Epoch 71/500\n",
      "6/6 [==============================] - 0s 12ms/step - loss: 0.0037 - mae: 0.0591 - val_loss: 1.3524e-04 - val_mae: 0.0149\n",
      "Epoch 72/500\n",
      "6/6 [==============================] - 0s 12ms/step - loss: 0.0037 - mae: 0.0597 - val_loss: 1.6243e-04 - val_mae: 0.0166\n",
      "Epoch 73/500\n",
      "6/6 [==============================] - 0s 10ms/step - loss: 0.0037 - mae: 0.0587 - val_loss: 2.4141e-04 - val_mae: 0.0209\n",
      "Epoch 74/500\n",
      "6/6 [==============================] - 0s 29ms/step - loss: 0.0037 - mae: 0.0579 - val_loss: 2.7330e-04 - val_mae: 0.0223\n",
      "Epoch 75/500\n",
      "6/6 [==============================] - 0s 12ms/step - loss: 0.0038 - mae: 0.0595 - val_loss: 2.0677e-04 - val_mae: 0.0189\n",
      "Epoch 76/500\n",
      "6/6 [==============================] - 0s 13ms/step - loss: 0.0038 - mae: 0.0611 - val_loss: 3.2896e-04 - val_mae: 0.0245\n",
      "Epoch 77/500\n",
      "6/6 [==============================] - 0s 12ms/step - loss: 0.0038 - mae: 0.0582 - val_loss: 4.9846e-04 - val_mae: 0.0307\n",
      "Epoch 78/500\n",
      "6/6 [==============================] - 0s 13ms/step - loss: 0.0038 - mae: 0.0572 - val_loss: 4.9767e-04 - val_mae: 0.0307\n",
      "Epoch 79/500\n",
      "6/6 [==============================] - 0s 14ms/step - loss: 0.0037 - mae: 0.0582 - val_loss: 4.5170e-04 - val_mae: 0.0291\n",
      "Epoch 80/500\n",
      "6/6 [==============================] - 0s 17ms/step - loss: 0.0037 - mae: 0.0583 - val_loss: 5.5707e-04 - val_mae: 0.0326\n",
      "Epoch 81/500\n",
      "6/6 [==============================] - 0s 17ms/step - loss: 0.0038 - mae: 0.0571 - val_loss: 5.8156e-04 - val_mae: 0.0333\n",
      "Epoch 82/500\n",
      "6/6 [==============================] - 0s 18ms/step - loss: 0.0038 - mae: 0.0599 - val_loss: 3.4395e-04 - val_mae: 0.0250\n",
      "Epoch 83/500\n",
      "6/6 [==============================] - 0s 13ms/step - loss: 0.0038 - mae: 0.0622 - val_loss: 5.0642e-04 - val_mae: 0.0309\n",
      "Epoch 84/500\n",
      "6/6 [==============================] - 0s 18ms/step - loss: 0.0038 - mae: 0.0571 - val_loss: 8.3581e-04 - val_mae: 0.0403\n",
      "Epoch 85/500\n",
      "6/6 [==============================] - 0s 22ms/step - loss: 0.0038 - mae: 0.0571 - val_loss: 5.5652e-04 - val_mae: 0.0325\n",
      "Epoch 86/500\n",
      "6/6 [==============================] - 0s 16ms/step - loss: 0.0037 - mae: 0.0579 - val_loss: 4.5074e-04 - val_mae: 0.0290\n",
      "Epoch 87/500\n",
      "6/6 [==============================] - 0s 17ms/step - loss: 0.0037 - mae: 0.0590 - val_loss: 4.8589e-04 - val_mae: 0.0302\n",
      "Epoch 88/500\n",
      "6/6 [==============================] - 0s 16ms/step - loss: 0.0038 - mae: 0.0607 - val_loss: 4.4993e-04 - val_mae: 0.0290\n",
      "Epoch 89/500\n",
      "6/6 [==============================] - 0s 15ms/step - loss: 0.0037 - mae: 0.0592 - val_loss: 6.3056e-04 - val_mae: 0.0347\n",
      "Epoch 90/500\n",
      "6/6 [==============================] - 0s 14ms/step - loss: 0.0038 - mae: 0.0568 - val_loss: 7.8974e-04 - val_mae: 0.0391\n",
      "Epoch 91/500\n",
      "6/6 [==============================] - 0s 12ms/step - loss: 0.0038 - mae: 0.0569 - val_loss: 6.0413e-04 - val_mae: 0.0340\n",
      "Epoch 92/500\n",
      "6/6 [==============================] - 0s 12ms/step - loss: 0.0037 - mae: 0.0581 - val_loss: 4.4663e-04 - val_mae: 0.0288\n",
      "Epoch 93/500\n",
      "6/6 [==============================] - 0s 13ms/step - loss: 0.0038 - mae: 0.0610 - val_loss: 5.2621e-04 - val_mae: 0.0315\n",
      "Epoch 94/500\n",
      "6/6 [==============================] - 0s 14ms/step - loss: 0.0037 - mae: 0.0576 - val_loss: 7.0978e-04 - val_mae: 0.0370\n",
      "Epoch 95/500\n",
      "6/6 [==============================] - 0s 12ms/step - loss: 0.0037 - mae: 0.0570 - val_loss: 5.5902e-04 - val_mae: 0.0326\n",
      "Epoch 96/500\n",
      "6/6 [==============================] - 0s 15ms/step - loss: 0.0038 - mae: 0.0609 - val_loss: 4.2526e-04 - val_mae: 0.0280\n",
      "Epoch 97/500\n",
      "6/6 [==============================] - 0s 12ms/step - loss: 0.0037 - mae: 0.0596 - val_loss: 7.0698e-04 - val_mae: 0.0369\n",
      "Epoch 98/500\n",
      "6/6 [==============================] - 0s 12ms/step - loss: 0.0038 - mae: 0.0569 - val_loss: 8.4154e-04 - val_mae: 0.0404\n",
      "Epoch 99/500\n",
      "6/6 [==============================] - 0s 12ms/step - loss: 0.0038 - mae: 0.0584 - val_loss: 4.4004e-04 - val_mae: 0.0285\n",
      "Epoch 100/500\n",
      "6/6 [==============================] - 0s 14ms/step - loss: 0.0039 - mae: 0.0628 - val_loss: 5.9963e-04 - val_mae: 0.0337\n",
      "Epoch 101/500\n",
      "6/6 [==============================] - 0s 29ms/step - loss: 0.0038 - mae: 0.0581 - val_loss: 9.5244e-04 - val_mae: 0.0430\n",
      "Epoch 102/500\n",
      "6/6 [==============================] - 0s 27ms/step - loss: 0.0038 - mae: 0.0567 - val_loss: 7.1983e-04 - val_mae: 0.0371\n",
      "Epoch 103/500\n",
      "6/6 [==============================] - 0s 13ms/step - loss: 0.0037 - mae: 0.0592 - val_loss: 4.8703e-04 - val_mae: 0.0301\n",
      "Epoch 104/500\n",
      "6/6 [==============================] - 0s 12ms/step - loss: 0.0039 - mae: 0.0618 - val_loss: 6.3361e-04 - val_mae: 0.0347\n",
      "Epoch 105/500\n",
      "6/6 [==============================] - 0s 10ms/step - loss: 0.0037 - mae: 0.0574 - val_loss: 5.5339e-04 - val_mae: 0.0325\n",
      "Epoch 106/500\n",
      "6/6 [==============================] - 0s 11ms/step - loss: 0.0037 - mae: 0.0573 - val_loss: 4.2114e-04 - val_mae: 0.0282\n",
      "Epoch 107/500\n",
      "6/6 [==============================] - 0s 10ms/step - loss: 0.0037 - mae: 0.0577 - val_loss: 3.6392e-04 - val_mae: 0.0260\n",
      "Epoch 108/500\n",
      "6/6 [==============================] - 0s 50ms/step - loss: 0.0037 - mae: 0.0576 - val_loss: 3.7758e-04 - val_mae: 0.0266\n",
      "Epoch 109/500\n",
      "6/6 [==============================] - 0s 11ms/step - loss: 0.0037 - mae: 0.0576 - val_loss: 3.2360e-04 - val_mae: 0.0244\n",
      "Epoch 110/500\n",
      "6/6 [==============================] - 0s 13ms/step - loss: 0.0037 - mae: 0.0586 - val_loss: 2.3592e-04 - val_mae: 0.0204\n",
      "1/1 [==============================] - 0s 22ms/step - loss: 2.0842e-05 - mae: 0.0054\n"
     ]
    },
    {
     "data": {
      "text/plain": [
       "5354.362539947033"
      ]
     },
     "execution_count": 14,
     "metadata": {},
     "output_type": "execute_result"
    }
   ],
   "source": [
    "fit_and_evaluate(model, train_set=X_train, valid_set=X_valid)"
   ]
  },
  {
   "cell_type": "code",
   "execution_count": 34,
   "id": "a9451215-7e2a-40dd-a4b2-df01ad76f77c",
   "metadata": {},
   "outputs": [
    {
     "name": "stdout",
     "output_type": "stream",
     "text": [
      "7/7 [==============================] - 0s 42ms/step\n",
      "7/7 [==============================] - 0s 9ms/step\n",
      "7/7 [==============================] - 0s 13ms/step\n",
      "7/7 [==============================] - 0s 14ms/step\n",
      "7/7 [==============================] - 0s 11ms/step\n",
      "7/7 [==============================] - 0s 15ms/step\n",
      "7/7 [==============================] - 0s 12ms/step\n",
      "7/7 [==============================] - 0s 11ms/step\n",
      "7/7 [==============================] - 0s 12ms/step\n",
      "7/7 [==============================] - 0s 11ms/step\n",
      "7/7 [==============================] - 0s 13ms/step\n",
      "7/7 [==============================] - 0s 11ms/step\n",
      "7/7 [==============================] - 0s 17ms/step\n",
      "7/7 [==============================] - 0s 12ms/step\n",
      "7/7 [==============================] - 0s 12ms/step\n",
      "7/7 [==============================] - 0s 12ms/step\n",
      "7/7 [==============================] - 0s 12ms/step\n",
      "7/7 [==============================] - 0s 13ms/step\n",
      "7/7 [==============================] - 0s 14ms/step\n",
      "7/7 [==============================] - 0s 36ms/step\n",
      "7/7 [==============================] - 0s 16ms/step\n",
      "7/7 [==============================] - 0s 14ms/step\n",
      "7/7 [==============================] - 0s 14ms/step\n",
      "7/7 [==============================] - 0s 15ms/step\n",
      "7/7 [==============================] - 0s 16ms/step\n",
      "7/7 [==============================] - 0s 17ms/step\n",
      "7/7 [==============================] - 0s 18ms/step\n",
      "7/7 [==============================] - 0s 16ms/step\n",
      "7/7 [==============================] - 0s 20ms/step\n",
      "7/7 [==============================] - 0s 34ms/step\n",
      "7/7 [==============================] - 0s 19ms/step\n",
      "7/7 [==============================] - 0s 14ms/step\n",
      "7/7 [==============================] - 0s 46ms/step\n",
      "7/7 [==============================] - 0s 18ms/step\n",
      "7/7 [==============================] - 0s 23ms/step\n",
      "7/7 [==============================] - 0s 20ms/step\n",
      "7/7 [==============================] - 0s 20ms/step\n",
      "7/7 [==============================] - 0s 27ms/step\n",
      "7/7 [==============================] - 0s 58ms/step\n",
      "7/7 [==============================] - 0s 21ms/step\n",
      "7/7 [==============================] - 0s 19ms/step\n",
      "7/7 [==============================] - 0s 18ms/step\n",
      "7/7 [==============================] - 0s 20ms/step\n",
      "7/7 [==============================] - 0s 21ms/step\n",
      "7/7 [==============================] - 0s 19ms/step\n",
      "7/7 [==============================] - 0s 22ms/step\n",
      "7/7 [==============================] - 0s 23ms/step\n",
      "7/7 [==============================] - 0s 51ms/step\n",
      "7/7 [==============================] - 0s 23ms/step\n",
      "7/7 [==============================] - 0s 23ms/step\n",
      "7/7 [==============================] - 0s 39ms/step\n",
      "7/7 [==============================] - 0s 27ms/step\n"
     ]
    }
   ],
   "source": [
    "for step_ahead in range(52):\n",
    "    y_hat = model.predict(X)\n",
    "    X = np.concatenate([X, y_hat], axis=1)"
   ]
  },
  {
   "cell_type": "code",
   "execution_count": 61,
   "id": "4cf6dc35-4f1f-443c-b4b7-49d013ea5044",
   "metadata": {},
   "outputs": [],
   "source": [
    "Y = X[-52:]\n",
    "y_hat = []\n",
    "for value in Y:\n",
    "    y_hat.append(value[0])"
   ]
  },
  {
   "cell_type": "code",
   "execution_count": 63,
   "id": "26154d64-8b41-48fc-a563-3e28243c42fd",
   "metadata": {},
   "outputs": [
    {
     "data": {
      "text/plain": [
       "<AxesSubplot: >"
      ]
     },
     "execution_count": 63,
     "metadata": {},
     "output_type": "execute_result"
    },
    {
     "data": {
      "image/png": "[encoded data removed]",
      "text/plain": [
       "<Figure size 640x480 with 1 Axes>"
      ]
     },
     "metadata": {},
     "output_type": "display_data"
    }
   ],
   "source": [
    "sns.scatterplot(x=y_test, y=y_hat)"
   ]
  },
  {
   "cell_type": "markdown",
   "id": "20630145-3008-4d52-96ee-5f68e1869260",
   "metadata": {},
   "source": [
    "## Interpretacion\n",
    "Los resultados de el modelo se pueden considerar favorables, ya que en su mayoria se puede considerar similares a los valores reales, sin embargo hay algunos resultados que si se salen de la linea de tendencia. "
   ]
  },
  {
   "cell_type": "markdown",
   "id": "6a873da4-d0d0-4a7a-9754-fb904b1b557e",
   "metadata": {},
   "source": [
    "## Equation Model\n",
    "$h= σ(UX + Wh-1 + B)$"
   ]
  }
 ],
 "metadata": {
  "kernelspec": {
   "display_name": "Python 3 (ipykernel)",
   "language": "python",
   "name": "python3"
  },
  "language_info": {
   "codemirror_mode": {
    "name": "ipython",
    "version": 3
   },
   "file_extension": ".py",
   "mimetype": "text/x-python",
   "name": "python",
   "nbconvert_exporter": "python",
   "pygments_lexer": "ipython3",
   "version": "3.9.18"
  }
 },
 "nbformat": 4,
 "nbformat_minor": 5
}
